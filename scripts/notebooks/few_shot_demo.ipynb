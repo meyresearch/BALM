{
 "cells": [
  {
   "cell_type": "code",
   "execution_count": 2,
   "metadata": {},
   "outputs": [
    {
     "name": "stdout",
     "output_type": "stream",
     "text": [
      "# packages in environment at /Users/rohan/opt/anaconda3/envs/mldd:\r\n",
      "#\r\n",
      "# Name                    Version                   Build  Channel\r\n",
      "absl-py                   0.14.1                   pypi_0    pypi\r\n",
      "accelerate                1.0.1                    pypi_0    pypi\r\n",
      "adjusttext                0.8                      pypi_0    pypi\r\n",
      "aiohappyeyeballs          2.4.3                    pypi_0    pypi\r\n",
      "aiohttp                   3.10.10                  pypi_0    pypi\r\n",
      "aiosignal                 1.3.1                    pypi_0    pypi\r\n",
      "annotated-types           0.7.0                    pypi_0    pypi\r\n",
      "appdirs                   1.4.4                    pypi_0    pypi\r\n",
      "appnope                   0.1.2            py38h50d1736_1    conda-forge\r\n",
      "argon2-cffi               20.1.0           py38h96a0964_2    conda-forge\r\n",
      "astunparse                1.6.3                    pypi_0    pypi\r\n",
      "async-timeout             4.0.3                    pypi_0    pypi\r\n",
      "async_generator           1.10                       py_0    conda-forge\r\n",
      "attrs                     21.2.0             pyhd8ed1ab_0    conda-forge\r\n",
      "backcall                  0.2.0              pyh9f0ad1d_0    conda-forge\r\n",
      "backports                 1.0                        py_2    conda-forge\r\n",
      "backports.functools_lru_cache 1.6.4              pyhd8ed1ab_0    conda-forge\r\n",
      "beautifulsoup4            4.11.1                   pypi_0    pypi\r\n",
      "biopython                 1.79                     pypi_0    pypi\r\n",
      "bioservices               1.10.0                   pypi_0    pypi\r\n",
      "bleach                    4.1.0              pyhd8ed1ab_0    conda-forge\r\n",
      "bokeh                     3.0.3                    pypi_0    pypi\r\n",
      "boost                     1.74.0           py38h692b87f_3    conda-forge\r\n",
      "boost-cpp                 1.74.0               hff03dee_4    conda-forge\r\n",
      "brokenaxes                0.5.0                    pypi_0    pypi\r\n",
      "brotlipy                  0.7.0           py38h96a0964_1001    conda-forge\r\n",
      "bzip2                     1.0.8                h0d85af4_4    conda-forge\r\n",
      "ca-certificates           2021.10.8            h033912b_0    conda-forge\r\n",
      "cachetools                4.2.4                    pypi_0    pypi\r\n",
      "cairo                     1.16.0            he43a7df_1008    conda-forge\r\n",
      "cattrs                    22.1.0                   pypi_0    pypi\r\n",
      "cctools_osx-64            949.0.1             h6407bdd_23    conda-forge\r\n",
      "certifi                   2021.5.30                pypi_0    pypi\r\n",
      "cffi                      1.14.6           py38h1a44b6c_1    conda-forge\r\n",
      "chardet                   4.0.0            py38h50d1736_1    conda-forge\r\n",
      "charset-normalizer        2.0.6                    pypi_0    pypi\r\n",
      "clang                     5.0                      pypi_0    pypi\r\n",
      "clang-11                  11.1.0          default_he082bbe_1    conda-forge\r\n",
      "clang_osx-64              11.1.0               hb91bd55_3    conda-forge\r\n",
      "clangxx                   11.1.0          default_he082bbe_1    conda-forge\r\n",
      "clangxx_osx-64            11.1.0               h7e1b574_3    conda-forge\r\n",
      "click                     8.0.1            py38h50d1736_0    conda-forge\r\n",
      "colorama                  0.4.4              pyh9f0ad1d_0    conda-forge\r\n",
      "colorlog                  6.6.0                    pypi_0    pypi\r\n",
      "compiler-rt               11.1.0               h654b07c_0    conda-forge\r\n",
      "compiler-rt_osx-64        11.1.0               h8c5fa43_0    conda-forge\r\n",
      "contourpy                 1.0.7                    pypi_0    pypi\r\n",
      "cryptography              35.0.0           py38hcc27614_0    conda-forge\r\n",
      "cycler                    0.10.0                     py_2    conda-forge\r\n",
      "dataclasses               0.8                pyhc8e2a94_3    conda-forge\r\n",
      "datasets                  3.0.2                    pypi_0    pypi\r\n",
      "dbus                      1.13.6               ha13b53f_2    conda-forge\r\n",
      "debugpy                   1.4.1            py38ha048514_0    conda-forge\r\n",
      "decorator                 5.1.0              pyhd8ed1ab_0    conda-forge\r\n",
      "deepchem                  2.5.0                    pypi_0    pypi\r\n",
      "defusedxml                0.7.1              pyhd8ed1ab_0    conda-forge\r\n",
      "dill                      0.3.8                    pypi_0    pypi\r\n",
      "docopt                    0.6.2                    pypi_0    pypi\r\n",
      "duckdb                    0.10.1                   pypi_0    pypi\r\n",
      "easydev                   0.12.0                   pypi_0    pypi\r\n",
      "entrypoints               0.3             pyhd8ed1ab_1003    conda-forge\r\n",
      "exceptiongroup            1.0.0rc8                 pypi_0    pypi\r\n",
      "expat                     2.4.1                he49afe7_0    conda-forge\r\n",
      "fair-esm                  0.4.0                    pypi_0    pypi\r\n",
      "fftw                      3.3.10          nompi_h4024a70_101    conda-forge\r\n",
      "filelock                  3.16.1                   pypi_0    pypi\r\n",
      "flask                     2.0.1              pyhd8ed1ab_0    conda-forge\r\n",
      "flatbuffers               1.12                     pypi_0    pypi\r\n",
      "fontconfig                2.13.1            h10f422b_1005    conda-forge\r\n",
      "fonttools                 4.47.2                   pypi_0    pypi\r\n",
      "freetype                  2.10.4               h4cff582_1    conda-forge\r\n",
      "frozenlist                1.5.0                    pypi_0    pypi\r\n",
      "fsspec                    2024.9.0                 pypi_0    pypi\r\n",
      "future                    0.18.2           py38h50d1736_3    conda-forge\r\n",
      "fuzzywuzzy                0.18.0                   pypi_0    pypi\r\n",
      "gast                      0.4.0                    pypi_0    pypi\r\n",
      "gettext                   0.19.8.1          hd1a6beb_1008    conda-forge\r\n",
      "gevent                    21.12.0                  pypi_0    pypi\r\n",
      "gfortran_impl_osx-64      9.3.0               h9cc0e5e_23    conda-forge\r\n",
      "gfortran_osx-64           9.3.0               h18f7dce_14    conda-forge\r\n",
      "glib                      2.68.4               he49afe7_1    conda-forge\r\n",
      "glib-tools                2.68.4               he49afe7_1    conda-forge\r\n",
      "gmp                       6.2.1                h2e338ed_0    conda-forge\r\n",
      "google-auth               1.35.0                   pypi_0    pypi\r\n",
      "google-auth-oauthlib      0.4.6                    pypi_0    pypi\r\n",
      "google-pasta              0.2.0                    pypi_0    pypi\r\n",
      "googledrivedownloader     0.4                pyhd3deb0d_1    conda-forge\r\n",
      "greenlet                  1.1.2            py38ha048514_0    conda-forge\r\n",
      "grequests                 0.6.0                    pypi_0    pypi\r\n",
      "griddataformats           0.6.0                    pypi_0    pypi\r\n",
      "grpcio                    1.41.0                   pypi_0    pypi\r\n",
      "gsd                       2.5.1                    pypi_0    pypi\r\n",
      "h5py                      3.1.0                    pypi_0    pypi\r\n",
      "hhsuite                   3.3.0           py38pl5262haeff03a_2    bioconda\r\n",
      "huggingface-hub           0.26.2                   pypi_0    pypi\r\n",
      "icu                       68.1                 h74dc148_0    conda-forge\r\n",
      "idna                      3.2                      pypi_0    pypi\r\n",
      "importlib-metadata        4.8.1            py38h50d1736_0    conda-forge\r\n",
      "importlib-resources       6.1.1                    pypi_0    pypi\r\n",
      "ipykernel                 6.4.1            py38h5fd9f69_0    conda-forge\r\n",
      "ipython                   7.28.0           py38h5fd9f69_0    conda-forge\r\n",
      "ipython_genutils          0.2.0                      py_1    conda-forge\r\n",
      "ipywidgets                7.6.5              pyhd8ed1ab_0    conda-forge\r\n",
      "isl                       0.22.1               hb1e8313_2    conda-forge\r\n",
      "isodate                   0.6.0                    pypi_0    pypi\r\n",
      "itsdangerous              2.0.1              pyhd8ed1ab_0    conda-forge\r\n",
      "jbig                      2.1               h0d85af4_2003    conda-forge\r\n",
      "jedi                      0.17.2                   pypi_0    pypi\r\n",
      "jinja2                    3.0.1              pyhd8ed1ab_0    conda-forge\r\n",
      "joblib                    1.3.2                    pypi_0    pypi\r\n",
      "jpeg                      9d                   hbcb3906_0    conda-forge\r\n",
      "jsonschema                4.0.1              pyhd8ed1ab_0    conda-forge\r\n",
      "jupyter                   1.0.0            py38h50d1736_6    conda-forge\r\n",
      "jupyter_client            7.0.5              pyhd8ed1ab_0    conda-forge\r\n",
      "jupyter_console           6.4.0              pyhd8ed1ab_0    conda-forge\r\n",
      "jupyter_core              4.8.1            py38h50d1736_0    conda-forge\r\n",
      "jupyterlab_pygments       0.1.2              pyh9f0ad1d_0    conda-forge\r\n",
      "jupyterlab_widgets        1.0.2              pyhd8ed1ab_0    conda-forge\r\n",
      "keras                     2.6.0                    pypi_0    pypi\r\n",
      "keras-preprocessing       1.1.2                    pypi_0    pypi\r\n",
      "khronos-opencl-icd-loader 2021.06.30           h0d85af4_1    conda-forge\r\n",
      "kiwisolver                1.3.2            py38h12bbefe_0    conda-forge\r\n",
      "krb5                      1.19.2               hcfbf3a7_2    conda-forge\r\n",
      "lcms2                     2.12                 h577c468_0    conda-forge\r\n",
      "ld64_osx-64               530                 he8994da_21    conda-forge\r\n",
      "ldid                      2.1.2                h6a69015_3    conda-forge\r\n",
      "lerc                      2.2.1                h046ec9c_0    conda-forge\r\n",
      "libblas                   3.9.0              12_osx64_mkl    conda-forge\r\n",
      "libcblas                  3.9.0              12_osx64_mkl    conda-forge\r\n",
      "libclang                  11.1.0          default_he082bbe_1    conda-forge\r\n",
      "libclang-cpp11.1          11.1.0          default_he082bbe_1    conda-forge\r\n",
      "libcxx                    12.0.1               habf9029_0    conda-forge\r\n",
      "libdeflate                1.7                  h35c211d_5    conda-forge\r\n",
      "libedit                   3.1.20191231         h0678c8f_2    conda-forge\r\n",
      "libffi                    3.4.2                he49afe7_4    conda-forge\r\n",
      "libgfortran               5.0.0           9_3_0_h6c81a4c_23    conda-forge\r\n",
      "libgfortran-devel_osx-64  9.3.0               h6c81a4c_23    conda-forge\r\n",
      "libgfortran5              9.3.0               h6c81a4c_23    conda-forge\r\n",
      "libglib                   2.68.4               hf1fb8c0_1    conda-forge\r\n",
      "libiconv                  1.16                 haf1e3a3_0    conda-forge\r\n",
      "liblapack                 3.9.0              12_osx64_mkl    conda-forge\r\n",
      "libllvm11                 11.1.0               hd011deb_2    conda-forge\r\n",
      "libllvm12                 12.0.1               hd011deb_2    conda-forge\r\n",
      "libopenblas               0.3.17          openmp_h3351f45_1    conda-forge\r\n",
      "libpng                    1.6.37               h7cec526_2    conda-forge\r\n",
      "libpq                     13.3                 hea3049e_0    conda-forge\r\n",
      "libprotobuf               3.18.1               hcf210ce_0    conda-forge\r\n",
      "libsodium                 1.0.18               hbcb3906_1    conda-forge\r\n",
      "libtiff                   4.3.0                h1167814_1    conda-forge\r\n",
      "libwebp-base              1.2.1                h0d85af4_0    conda-forge\r\n",
      "libxml2                   2.9.12               h93ec3fd_0    conda-forge\r\n",
      "libzlib                   1.2.11            h9173be1_1013    conda-forge\r\n",
      "llvm-openmp               12.0.1               hda6cdc1_1    conda-forge\r\n",
      "llvm-tools                11.1.0               hd011deb_2    conda-forge\r\n",
      "llvmlite                  0.41.1                   pypi_0    pypi\r\n",
      "lxml                      4.9.1                    pypi_0    pypi\r\n",
      "lz4-c                     1.9.3                he49afe7_1    conda-forge\r\n",
      "markdown                  3.3.4                    pypi_0    pypi\r\n",
      "markupsafe                2.0.1            py38h96a0964_0    conda-forge\r\n",
      "matplotlib                3.7.1                    pypi_0    pypi\r\n",
      "matplotlib-inline         0.1.6                    pypi_0    pypi\r\n",
      "mdanalysis                2.0.0                    pypi_0    pypi\r\n",
      "mdtraj                    1.9.6                    pypi_0    pypi\r\n",
      "mistune                   0.8.4           py38h96a0964_1004    conda-forge\r\n",
      "mkl                       2021.4.0           h89fa619_689    conda-forge\r\n",
      "mmtf-python               1.1.2                    pypi_0    pypi\r\n",
      "mpc                       1.2.1                hbb51d92_0    conda-forge\r\n",
      "mpfr                      4.1.0                h0f52abe_1    conda-forge\r\n",
      "mpmath                    1.3.0                    pypi_0    pypi\r\n",
      "msgpack                   1.0.3                    pypi_0    pypi\r\n",
      "multidict                 6.1.0                    pypi_0    pypi\r\n",
      "multiprocess              0.70.16                  pypi_0    pypi\r\n",
      "mysql-common              8.0.25               h694c41f_2    conda-forge\r\n",
      "mysql-libs                8.0.25               h115446f_2    conda-forge\r\n",
      "nbclient                  0.5.4              pyhd8ed1ab_0    conda-forge\r\n",
      "nbconvert                 6.2.0            py38h50d1736_0    conda-forge\r\n",
      "nbformat                  5.1.3              pyhd8ed1ab_0    conda-forge\r\n",
      "ncurses                   6.2                  h2e338ed_4    conda-forge\r\n",
      "nest-asyncio              1.5.1              pyhd8ed1ab_0    conda-forge\r\n",
      "networkx                  2.6.3              pyhd3eb1b0_0  \r\n",
      "nglview                   3.0.3              pyh8a188c0_0    conda-forge\r\n",
      "ninja                     1.10.2               h940c156_1    conda-forge\r\n",
      "notebook                  6.4.4              pyha770c72_0    conda-forge\r\n",
      "nspr                      4.30                 hcd9eead_0    conda-forge\r\n",
      "nss                       3.69                 h31e2bf1_1    conda-forge\r\n",
      "numba                     0.58.1                   pypi_0    pypi\r\n",
      "numpy                     1.19.5                   pypi_0    pypi\r\n",
      "oauthlib                  3.1.1                    pypi_0    pypi\r\n",
      "ocl_icd_wrapper_apple     1.0.0                hbcb3906_0    conda-forge\r\n",
      "olefile                   0.46               pyh9f0ad1d_1    conda-forge\r\n",
      "openjpeg                  2.4.0                h6e7aa92_1    conda-forge\r\n",
      "openmm                    7.6.0           py38h0498e66_0_khronos    conda-forge\r\n",
      "openssl                   1.1.1l               h0d85af4_0    conda-forge\r\n",
      "opt-einsum                3.3.0                    pypi_0    pypi\r\n",
      "packaging                 21.0               pyhd8ed1ab_0    conda-forge\r\n",
      "pandas                    2.0.1                    pypi_0    pypi\r\n",
      "pandoc                    2.14.2               h0d85af4_0    conda-forge\r\n",
      "pandocfilters             1.5.0              pyhd8ed1ab_0    conda-forge\r\n",
      "parso                     0.7.1                    pypi_0    pypi\r\n",
      "pcre                      8.45                 he49afe7_0    conda-forge\r\n",
      "pdbfixer                  1.8.1              pyh6c4a22f_0    conda-forge\r\n",
      "pdf2image                 1.16.0                   pypi_0    pypi\r\n",
      "peft                      0.13.2                   pypi_0    pypi\r\n",
      "perl                      5.26.2            hbcb3906_1008    conda-forge\r\n",
      "pexpect                   4.8.0              pyh9f0ad1d_2    conda-forge\r\n",
      "pickleshare               0.7.5                   py_1003    conda-forge\r\n",
      "pillow                    8.3.2            py38hee640a0_0    conda-forge\r\n",
      "pip                       21.2.4             pyhd8ed1ab_0    conda-forge\r\n",
      "pixman                    0.40.0               hbcb3906_0    conda-forge\r\n",
      "prometheus_client         0.11.0             pyhd8ed1ab_0    conda-forge\r\n",
      "prompt-toolkit            3.0.20             pyha770c72_0    conda-forge\r\n",
      "prompt_toolkit            3.0.20               hd8ed1ab_0    conda-forge\r\n",
      "propcache                 0.2.0                    pypi_0    pypi\r\n",
      "protobuf                  3.18.0                   pypi_0    pypi\r\n",
      "psutil                    6.1.0                    pypi_0    pypi\r\n",
      "ptyprocess                0.7.0              pyhd3deb0d_0    conda-forge\r\n",
      "pyarrow                   15.0.2                   pypi_0    pypi\r\n",
      "pyasn1                    0.4.8                    pypi_0    pypi\r\n",
      "pyasn1-modules            0.2.8                    pypi_0    pypi\r\n",
      "pycairo                   1.20.1           py38h53d24c6_0    conda-forge\r\n",
      "pycparser                 2.20               pyh9f0ad1d_2    conda-forge\r\n",
      "pydantic                  2.9.2                    pypi_0    pypi\r\n",
      "pydantic-core             2.23.4                   pypi_0    pypi\r\n",
      "pyg                       2.0.1           py38_torch_1.9.0_cpu    pyg\r\n",
      "pygments                  2.10.0             pyhd8ed1ab_0    conda-forge\r\n",
      "pynndescent               0.5.11                   pypi_0    pypi\r\n",
      "pyopenssl                 21.0.0             pyhd8ed1ab_0    conda-forge\r\n",
      "pyparsing                 2.4.7              pyh9f0ad1d_0    conda-forge\r\n",
      "pypdb                     2.0                      pypi_0    pypi\r\n",
      "pyqt                      5.12.3           py38h50d1736_7    conda-forge\r\n",
      "pyqt-impl                 5.12.3           py38h721a93c_7    conda-forge\r\n",
      "pyqt5-sip                 4.19.18          py38h5745d40_7    conda-forge\r\n",
      "pyqtchart                 5.12             py38h721a93c_7    conda-forge\r\n",
      "pyqtwebengine             5.12.1           py38h721a93c_7    conda-forge\r\n",
      "pyrsistent                0.17.3           py38h96a0964_2    conda-forge\r\n",
      "pysocks                   1.7.1            py38h50d1736_3    conda-forge\r\n",
      "pytdc                     0.3.3                    pypi_0    pypi\r\n",
      "python                    3.8.12          h17280f6_1_cpython    conda-forge\r\n",
      "python-dateutil           2.8.2              pyhd8ed1ab_0    conda-forge\r\n",
      "python-louvain            0.15               pyhd3deb0d_0    conda-forge\r\n",
      "python_abi                3.8                      2_cp38    conda-forge\r\n",
      "pytorch-cluster           1.5.9           py38_torch_1.9.0_cpu    pyg\r\n",
      "pytorch-cpu               1.9.1           cpu_py38he781eb1_3    conda-forge\r\n",
      "pytorch-scatter           2.0.8           py38_torch_1.9.0_cpu    pyg\r\n",
      "pytorch-spline-conv       1.2.1           py38_torch_1.9.0_cpu    pyg\r\n",
      "pytz                      2021.1             pyhd8ed1ab_0    conda-forge\r\n",
      "pyyaml                    6.0              py38h96a0964_0    conda-forge\r\n",
      "pyzmq                     22.3.0           py38hd3b92b6_0    conda-forge\r\n",
      "qt                        5.12.9               h126340a_4    conda-forge\r\n",
      "qtconsole                 5.1.1              pyhd8ed1ab_0    conda-forge\r\n",
      "qtpy                      1.11.2             pyhd8ed1ab_0    conda-forge\r\n",
      "rdflib                    6.0.2                    pypi_0    pypi\r\n",
      "rdkit                     2021.03.5        py38h0bd8f9b_0    conda-forge\r\n",
      "readline                  8.1                  h05e3726_0    conda-forge\r\n",
      "regex                     2024.9.11                pypi_0    pypi\r\n",
      "reportlab                 3.5.68           py38hf6ac518_0    conda-forge\r\n",
      "requests                  2.32.3                   pypi_0    pypi\r\n",
      "requests-cache            0.9.5                    pypi_0    pypi\r\n",
      "requests-oauthlib         1.3.0                    pypi_0    pypi\r\n",
      "rsa                       4.7.2                    pypi_0    pypi\r\n",
      "safetensors               0.4.5                    pypi_0    pypi\r\n",
      "scikit-learn              1.2.2                    pypi_0    pypi\r\n",
      "scipy                     1.7.1            py38hd329d04_0    conda-forge\r\n",
      "seaborn                   0.12.2                   pypi_0    pypi\r\n",
      "send2trash                1.8.0              pyhd8ed1ab_0    conda-forge\r\n",
      "setuptools                58.0.4           py38h50d1736_2    conda-forge\r\n",
      "six                       1.15.0                   pypi_0    pypi\r\n",
      "sleef                     3.5.1                h6db0672_2    conda-forge\r\n",
      "soupsieve                 2.3.2.post1              pypi_0    pypi\r\n",
      "sqlalchemy                1.4.25           py38h96a0964_0    conda-forge\r\n",
      "sqlite                    3.36.0               h23a322b_2    conda-forge\r\n",
      "statannotations           0.4.4                    pypi_0    pypi\r\n",
      "suds-community            1.1.2                    pypi_0    pypi\r\n",
      "sympy                     1.13.3                   pypi_0    pypi\r\n",
      "tapi                      1100.0.11            h9ce4665_0    conda-forge\r\n",
      "tbb                       2021.3.0             h940c156_0    conda-forge\r\n",
      "tensorboard               2.6.0                    pypi_0    pypi\r\n",
      "tensorboard-data-server   0.6.1                    pypi_0    pypi\r\n",
      "tensorboard-plugin-wit    1.8.0                    pypi_0    pypi\r\n",
      "tensorflow                2.6.0                    pypi_0    pypi\r\n",
      "tensorflow-estimator      2.6.0                    pypi_0    pypi\r\n",
      "termcolor                 1.1.0                    pypi_0    pypi\r\n",
      "terminado                 0.12.1           py38h50d1736_0    conda-forge\r\n",
      "testpath                  0.5.0              pyhd8ed1ab_0    conda-forge\r\n",
      "threadpoolctl             3.0.0              pyh8a188c0_0    conda-forge\r\n",
      "tk                        8.6.11               h5dbffcc_1    conda-forge\r\n",
      "tokenizers                0.20.1                   pypi_0    pypi\r\n",
      "torch                     2.2.2                    pypi_0    pypi\r\n",
      "torch-sparse              0.6.12                   pypi_0    pypi\r\n",
      "torchvision               0.10.1          py38h8b12d5a_0_cpu    conda-forge\r\n",
      "tornado                   6.1              py38h96a0964_1    conda-forge\r\n",
      "tqdm                      4.66.6                   pypi_0    pypi\r\n",
      "traitlets                 5.1.0              pyhd8ed1ab_0    conda-forge\r\n",
      "transformers              4.46.1                   pypi_0    pypi\r\n",
      "typing-extensions         4.12.2                   pypi_0    pypi\r\n",
      "tzdata                    2023.4                   pypi_0    pypi\r\n",
      "umap-learn                0.5.2                    pypi_0    pypi\r\n",
      "url-normalize             1.4.3                    pypi_0    pypi\r\n",
      "urllib3                   1.26.7             pyhd8ed1ab_0    conda-forge\r\n",
      "wcwidth                   0.2.5              pyh9f0ad1d_2    conda-forge\r\n",
      "webencodings              0.5.1                      py_1    conda-forge\r\n",
      "werkzeug                  2.0.1              pyhd8ed1ab_0    conda-forge\r\n",
      "wheel                     0.37.0             pyhd8ed1ab_1    conda-forge\r\n",
      "widgetsnbextension        3.5.1            py38h50d1736_4    conda-forge\r\n",
      "wrapt                     1.12.1                   pypi_0    pypi\r\n",
      "xmltodict                 0.13.0                   pypi_0    pypi\r\n",
      "xxhash                    3.5.0                    pypi_0    pypi\r\n",
      "xyzservices               2023.2.0                 pypi_0    pypi\r\n",
      "xz                        5.2.5                haf1e3a3_1    conda-forge\r\n",
      "yacs                      0.1.6                      py_0    conda-forge\r\n",
      "yaml                      0.2.5                haf1e3a3_0    conda-forge\r\n",
      "yarl                      1.15.2                   pypi_0    pypi\r\n",
      "zeromq                    4.3.4                he49afe7_1    conda-forge\r\n",
      "zipp                      3.6.0              pyhd8ed1ab_0    conda-forge\r\n",
      "zlib                      1.2.11            h9173be1_1013    conda-forge\r\n",
      "zope-event                4.5.0                    pypi_0    pypi\r\n",
      "zope-interface            5.4.0                    pypi_0    pypi\r\n",
      "zstd                      1.5.0                h582d3a0_0    conda-forge\r\n"
     ]
    }
   ],
   "source": [
    "!conda list"
   ]
  },
  {
   "cell_type": "code",
   "execution_count": 9,
   "metadata": {},
   "outputs": [
    {
     "name": "stdout",
     "output_type": "stream",
     "text": [
      "Requirement already satisfied: pydantic in /Users/rohan/opt/anaconda3/envs/mldd/lib/python3.8/site-packages (2.9.2)\n",
      "Requirement already satisfied: typing-extensions>=4.6.1 in /Users/rohan/opt/anaconda3/envs/mldd/lib/python3.8/site-packages (from pydantic) (4.12.2)\n",
      "Requirement already satisfied: pydantic-core==2.23.4 in /Users/rohan/opt/anaconda3/envs/mldd/lib/python3.8/site-packages (from pydantic) (2.23.4)\n",
      "Requirement already satisfied: annotated-types>=0.6.0 in /Users/rohan/opt/anaconda3/envs/mldd/lib/python3.8/site-packages (from pydantic) (0.7.0)\n"
     ]
    }
   ],
   "source": [
    "!pip install -U pydantic"
   ]
  },
  {
   "cell_type": "code",
   "execution_count": 2,
   "metadata": {},
   "outputs": [
    {
     "name": "stdout",
     "output_type": "stream",
     "text": [
      "Collecting peft\n",
      "  Downloading peft-0.13.2-py3-none-any.whl (320 kB)\n",
      "\u001b[K     |████████████████████████████████| 320 kB 3.4 MB/s eta 0:00:01\n",
      "\u001b[?25hRequirement already satisfied: pyyaml in /Users/rohan/opt/anaconda3/envs/mldd/lib/python3.8/site-packages (from peft) (6.0)\n",
      "Requirement already satisfied: packaging>=20.0 in /Users/rohan/.local/lib/python3.8/site-packages (from peft) (23.0)\n",
      "Collecting psutil\n",
      "  Downloading psutil-6.1.0-cp36-abi3-macosx_10_9_x86_64.whl (247 kB)\n",
      "\u001b[K     |████████████████████████████████| 247 kB 6.0 MB/s eta 0:00:01\n",
      "\u001b[?25hRequirement already satisfied: transformers in /Users/rohan/opt/anaconda3/envs/mldd/lib/python3.8/site-packages (from peft) (4.46.1)\n",
      "Requirement already satisfied: tqdm in /Users/rohan/opt/anaconda3/envs/mldd/lib/python3.8/site-packages (from peft) (4.66.6)\n",
      "Collecting accelerate>=0.21.0\n",
      "  Downloading accelerate-1.0.1-py3-none-any.whl (330 kB)\n",
      "\u001b[K     |████████████████████████████████| 330 kB 6.7 MB/s eta 0:00:01\n",
      "\u001b[?25hRequirement already satisfied: huggingface-hub>=0.17.0 in /Users/rohan/opt/anaconda3/envs/mldd/lib/python3.8/site-packages (from peft) (0.26.2)\n",
      "Requirement already satisfied: safetensors in /Users/rohan/opt/anaconda3/envs/mldd/lib/python3.8/site-packages (from peft) (0.4.5)\n",
      "Collecting torch>=1.13.0\n",
      "  Downloading torch-2.2.2-cp38-none-macosx_10_9_x86_64.whl (150.6 MB)\n",
      "\u001b[K     |████████████████████████████████| 150.6 MB 154 kB/s  eta 0:00:01    |████████████████▊               | 78.6 MB 35.6 MB/s eta 0:00:03     |███████████████████████         | 108.0 MB 10.5 MB/s eta 0:00:05\n",
      "\u001b[?25hRequirement already satisfied: numpy>=1.17 in /Users/rohan/opt/anaconda3/envs/mldd/lib/python3.8/site-packages (from peft) (1.22.4)\n",
      "Requirement already satisfied: filelock in /Users/rohan/opt/anaconda3/envs/mldd/lib/python3.8/site-packages (from huggingface-hub>=0.17.0->peft) (3.16.1)\n",
      "Requirement already satisfied: typing-extensions>=3.7.4.3 in /Users/rohan/opt/anaconda3/envs/mldd/lib/python3.8/site-packages (from huggingface-hub>=0.17.0->peft) (4.12.2)\n",
      "Requirement already satisfied: requests in /Users/rohan/opt/anaconda3/envs/mldd/lib/python3.8/site-packages (from huggingface-hub>=0.17.0->peft) (2.32.3)\n",
      "Requirement already satisfied: fsspec>=2023.5.0 in /Users/rohan/opt/anaconda3/envs/mldd/lib/python3.8/site-packages (from huggingface-hub>=0.17.0->peft) (2024.9.0)\n",
      "Collecting sympy\n",
      "  Downloading sympy-1.13.3-py3-none-any.whl (6.2 MB)\n",
      "\u001b[K     |████████████████████████████████| 6.2 MB 28.2 MB/s eta 0:00:01\n",
      "\u001b[?25hRequirement already satisfied: jinja2 in /Users/rohan/opt/anaconda3/envs/mldd/lib/python3.8/site-packages (from torch>=1.13.0->peft) (3.0.1)\n",
      "Requirement already satisfied: networkx in /Users/rohan/opt/anaconda3/envs/mldd/lib/python3.8/site-packages (from torch>=1.13.0->peft) (2.6.3)\n",
      "Requirement already satisfied: MarkupSafe>=2.0 in /Users/rohan/opt/anaconda3/envs/mldd/lib/python3.8/site-packages (from jinja2->torch>=1.13.0->peft) (2.0.1)\n",
      "Requirement already satisfied: certifi>=2017.4.17 in /Users/rohan/opt/anaconda3/envs/mldd/lib/python3.8/site-packages (from requests->huggingface-hub>=0.17.0->peft) (2021.10.8)\n",
      "Requirement already satisfied: idna<4,>=2.5 in /Users/rohan/opt/anaconda3/envs/mldd/lib/python3.8/site-packages (from requests->huggingface-hub>=0.17.0->peft) (3.2)\n",
      "Requirement already satisfied: urllib3<3,>=1.21.1 in /Users/rohan/opt/anaconda3/envs/mldd/lib/python3.8/site-packages (from requests->huggingface-hub>=0.17.0->peft) (1.26.7)\n",
      "Requirement already satisfied: charset-normalizer<4,>=2 in /Users/rohan/opt/anaconda3/envs/mldd/lib/python3.8/site-packages (from requests->huggingface-hub>=0.17.0->peft) (2.0.6)\n",
      "Collecting mpmath<1.4,>=1.1.0\n",
      "  Downloading mpmath-1.3.0-py3-none-any.whl (536 kB)\n",
      "\u001b[K     |████████████████████████████████| 536 kB 33.6 MB/s eta 0:00:01\n",
      "\u001b[?25hRequirement already satisfied: regex!=2019.12.17 in /Users/rohan/opt/anaconda3/envs/mldd/lib/python3.8/site-packages (from transformers->peft) (2024.9.11)\n",
      "Requirement already satisfied: tokenizers<0.21,>=0.20 in /Users/rohan/opt/anaconda3/envs/mldd/lib/python3.8/site-packages (from transformers->peft) (0.20.1)\n",
      "Installing collected packages: mpmath, sympy, torch, psutil, accelerate, peft\n",
      "  Attempting uninstall: torch\n",
      "    Found existing installation: torch 1.9.1.post3\n",
      "    Uninstalling torch-1.9.1.post3:\n",
      "      Successfully uninstalled torch-1.9.1.post3\n",
      "Successfully installed accelerate-1.0.1 mpmath-1.3.0 peft-0.13.2 psutil-6.1.0 sympy-1.13.3 torch-2.2.2\n"
     ]
    }
   ],
   "source": [
    "!pip install peft"
   ]
  },
  {
   "cell_type": "code",
   "execution_count": 1,
   "metadata": {},
   "outputs": [
    {
     "name": "stderr",
     "output_type": "stream",
     "text": [
      "/Users/rohan/opt/anaconda3/envs/mldd/lib/python3.8/site-packages/pydantic/_internal/_fields.py:132: UserWarning: Field \"model_hyperparameters\" in ModelConfigs has conflict with protected namespace \"model_\".\n",
      "\n",
      "You may be able to resolve this warning by setting `model_config['protected_namespaces'] = ()`.\n",
      "  warnings.warn(\n",
      "/Users/rohan/opt/anaconda3/envs/mldd/lib/python3.8/site-packages/pydantic/_internal/_fields.py:132: UserWarning: Field \"model_configs\" in Configs has conflict with protected namespace \"model_\".\n",
      "\n",
      "You may be able to resolve this warning by setting `model_config['protected_namespaces'] = ()`.\n",
      "  warnings.warn(\n"
     ]
    }
   ],
   "source": [
    "import os\n",
    "import sys\n",
    "\n",
    "# This is to force the path to be on the same level as the balm folder\n",
    "sys.path.append(\"../..\")\n",
    "\n",
    "from transformers import AutoTokenizer\n",
    "import torch\n",
    "from datasets import load_dataset\n",
    "from balm import common_utils\n",
    "from balm.models.utils import load_trained_model, load_pretrained_pkd_bounds\n",
    "from balm.configs import Configs\n",
    "from balm.models import BALM\n",
    "\n",
    "DEVICE = \"cpu\""
   ]
  },
  {
   "cell_type": "markdown",
   "metadata": {},
   "source": [
    "# Load Pretrained BindingDB BALM"
   ]
  },
  {
   "cell_type": "code",
   "execution_count": null,
   "metadata": {},
   "outputs": [],
   "source": []
  },
  {
   "cell_type": "code",
   "execution_count": 5,
   "metadata": {},
   "outputs": [
    {
     "name": "stderr",
     "output_type": "stream",
     "text": [
      "Some weights of EsmModel were not initialized from the model checkpoint at facebook/esm2_t30_150M_UR50D and are newly initialized: ['esm.pooler.dense.bias', 'esm.pooler.dense.weight']\n",
      "You should probably TRAIN this model on a down-stream task to be able to use it for predictions and inference.\n",
      "Some weights of RobertaModel were not initialized from the model checkpoint at DeepChem/ChemBERTa-77M-MTR and are newly initialized: ['roberta.pooler.dense.bias', 'roberta.pooler.dense.weight']\n",
      "You should probably TRAIN this model on a down-stream task to be able to use it for predictions and inference.\n"
     ]
    },
    {
     "name": "stdout",
     "output_type": "stream",
     "text": [
      "trainable params: 128,160 || all params: 148,923,641 || trainable%: 0.0861\n",
      "trainable params: 221,184 || all params: 3,648,624 || trainable%: 6.0621\n",
      "Loading checkpoint from BALM/bdb-cleaned-r-esm-lokr-chemberta-loha-cosinemse\n"
     ]
    },
    {
     "data": {
      "application/vnd.jupyter.widget-view+json": {
       "model_id": "06382083fe25426f86c5321bac8be2dc",
       "version_major": 2,
       "version_minor": 0
      },
      "text/plain": [
       "pytorch_model.bin:   0%|          | 0.00/612M [00:00<?, ?B/s]"
      ]
     },
     "metadata": {},
     "output_type": "display_data"
    },
    {
     "data": {
      "application/vnd.jupyter.widget-view+json": {
       "model_id": "e060a74b747a4a569b52697505d8797f",
       "version_major": 2,
       "version_minor": 0
      },
      "text/plain": [
       "model.safetensors:   0%|          | 0.00/14.0M [00:00<?, ?B/s]"
      ]
     },
     "metadata": {},
     "output_type": "display_data"
    },
    {
     "name": "stdout",
     "output_type": "stream",
     "text": [
      "Merging protein model with its adapter\n",
      "Merging drug model with its adapter\n"
     ]
    }
   ],
   "source": [
    "config_filepath = \"../../default_configs/balm_peft.yaml\"\n",
    "configs = Configs(**common_utils.load_yaml(config_filepath))\n",
    "\n",
    "# Load the model\n",
    "model = BALM(configs.model_configs)\n",
    "model = load_trained_model(model, configs.model_configs, is_training=False)\n",
    "model.to(DEVICE)\n",
    "model.eval()\n",
    "# Pretrained pKd lower and upper bounds\n",
    "pkd_lower_bound, pkd_upper_bound = load_pretrained_pkd_bounds(configs.model_configs.checkpoint_path)\n",
    "\n",
    "# Load the tokenizers\n",
    "protein_tokenizer = AutoTokenizer.from_pretrained(\n",
    "    configs.model_configs.protein_model_name_or_path\n",
    ")\n",
    "drug_tokenizer = AutoTokenizer.from_pretrained(\n",
    "    configs.model_configs.drug_model_name_or_path\n",
    ")"
   ]
  },
  {
   "cell_type": "markdown",
   "metadata": {},
   "source": [
    "## Check if the loading is correct, the model should be able to perform well in BindingDB dataset"
   ]
  },
  {
   "cell_type": "code",
   "execution_count": 6,
   "metadata": {},
   "outputs": [
    {
     "data": {
      "application/vnd.jupyter.widget-view+json": {
       "model_id": "da02ae3aa1514365a357e9bf8faa295a",
       "version_major": 2,
       "version_minor": 0
      },
      "text/plain": [
       "README.md:   0%|          | 0.00/12.3k [00:00<?, ?B/s]"
      ]
     },
     "metadata": {},
     "output_type": "display_data"
    },
    {
     "data": {
      "application/vnd.jupyter.widget-view+json": {
       "model_id": "2c4ed10df9b84a11a039f669511dbef7",
       "version_major": 2,
       "version_minor": 0
      },
      "text/plain": [
       "data-00000-of-00001.arrow:   0%|          | 0.00/19.6M [00:00<?, ?B/s]"
      ]
     },
     "metadata": {},
     "output_type": "display_data"
    },
    {
     "data": {
      "application/vnd.jupyter.widget-view+json": {
       "model_id": "8b63e1fda27d4f9eb8f06de1be3ce227",
       "version_major": 2,
       "version_minor": 0
      },
      "text/plain": [
       "Generating train split:   0%|          | 0/24700 [00:00<?, ? examples/s]"
      ]
     },
     "metadata": {},
     "output_type": "display_data"
    },
    {
     "name": "stdout",
     "output_type": "stream",
     "text": [
      "Predicted pKd: 8.857807159423828 | True pKd: 9.251811981201172\n",
      "Predicted pKd: 8.924827575683594 | True pKd: 9.229147911071777\n",
      "Predicted pKd: 8.64533519744873 | True pKd: 9.031517028808594\n",
      "Predicted pKd: 8.825891494750977 | True pKd: 9.522878646850586\n",
      "Predicted pKd: 8.931111335754395 | True pKd: 9.585026741027832\n",
      "Predicted pKd: 8.992443084716797 | True pKd: 9.376750946044922\n",
      "Predicted pKd: 8.703511238098145 | True pKd: 9.638272285461426\n",
      "Predicted pKd: 8.894314765930176 | True pKd: 9.698969841003418\n",
      "Predicted pKd: 8.81692123413086 | True pKd: 9.698969841003418\n",
      "Predicted pKd: 8.81692123413086 | True pKd: 8.74472713470459\n",
      "Predicted pKd: 8.902658462524414 | True pKd: 9.638272285461426\n",
      "Predicted pKd: 5.815732955932617 | True pKd: 5.394684314727783\n",
      "Predicted pKd: 7.680473327636719 | True pKd: 6.6987528800964355\n",
      "Predicted pKd: 7.355868339538574 | True pKd: 7.11861515045166\n",
      "Predicted pKd: 7.308740615844727 | True pKd: 6.638083457946777\n",
      "Predicted pKd: 7.825357437133789 | True pKd: 6.920456886291504\n",
      "Predicted pKd: 5.778988361358643 | True pKd: 6.180390357971191\n",
      "Predicted pKd: 7.675224781036377 | True pKd: 6.628747463226318\n",
      "Predicted pKd: 7.3436479568481445 | True pKd: 7.096367359161377\n",
      "Predicted pKd: 7.2945661544799805 | True pKd: 7.567030906677246\n",
      "Predicted pKd: 7.829007148742676 | True pKd: 7.551293849945068\n",
      "Predicted pKd: 6.501145362854004 | True pKd: 7.345823287963867\n",
      "Predicted pKd: 7.65928840637207 | True pKd: 9.259636878967285\n",
      "Predicted pKd: 7.780590057373047 | True pKd: 9.221848487854004\n",
      "Predicted pKd: 7.65928840637207 | True pKd: 9.221848487854004\n",
      "Predicted pKd: 7.780590057373047 | True pKd: 9.022275924682617\n",
      "Predicted pKd: 6.201197147369385 | True pKd: 8.698969841003418\n",
      "Predicted pKd: 7.960698127746582 | True pKd: 8.853872299194336\n",
      "Predicted pKd: 5.350788116455078 | True pKd: 9.494850158691406\n",
      "Predicted pKd: 9.203773498535156 | True pKd: 9.366531372070312\n",
      "Predicted pKd: 7.1978349685668945 | True pKd: 9.714442253112793\n",
      "Predicted pKd: 3.6930911540985107 | True pKd: 4.366530418395996\n",
      "Predicted pKd: 3.639371633529663 | True pKd: 4.309803009033203\n",
      "Predicted pKd: 3.7083969116210938 | True pKd: 4.468519687652588\n",
      "Predicted pKd: 3.835719585418701 | True pKd: 4.638270378112793\n",
      "Predicted pKd: 3.7761216163635254 | True pKd: 4.337241172790527\n",
      "Predicted pKd: 3.931123971939087 | True pKd: 4.309803009033203\n",
      "Predicted pKd: 4.006819725036621 | True pKd: 4.638270378112793\n",
      "Predicted pKd: 3.909018039703369 | True pKd: 4.3467864990234375\n",
      "Predicted pKd: 4.074419975280762 | True pKd: 4.455930709838867\n",
      "Predicted pKd: 4.33335018157959 | True pKd: 4.366530418395996\n",
      "Predicted pKd: 4.249116897583008 | True pKd: 4.3979387283325195\n",
      "Predicted pKd: 3.777331829071045 | True pKd: 3.79587984085083\n",
      "Predicted pKd: 4.278371810913086 | True pKd: 4.236571311950684\n",
      "Predicted pKd: 3.39442777633667 | True pKd: 4.154901504516602\n",
      "Predicted pKd: 4.162888526916504 | True pKd: 4.18708610534668\n",
      "Predicted pKd: 3.9856274127960205 | True pKd: 4.420215129852295\n",
      "Predicted pKd: 4.061671257019043 | True pKd: 4.283995628356934\n",
      "Predicted pKd: 4.2096028327941895 | True pKd: 4.638270378112793\n",
      "Predicted pKd: 4.2592973709106445 | True pKd: 4.366530418395996\n",
      "Predicted pKd: 4.598606109619141 | True pKd: 4.130767822265625\n",
      "Predicted pKd: 4.754110336303711 | True pKd: 4.18708610534668\n",
      "Predicted pKd: 4.537687301635742 | True pKd: 4.3979387283325195\n",
      "Predicted pKd: 4.791589736938477 | True pKd: 4.823905944824219\n",
      "Predicted pKd: 5.143534183502197 | True pKd: 4.455930709838867\n",
      "Predicted pKd: 5.045711517333984 | True pKd: 4.244124412536621\n",
      "Predicted pKd: 4.255887508392334 | True pKd: 4.1611504554748535\n",
      "Predicted pKd: 5.059841156005859 | True pKd: 3.79587984085083\n",
      "Predicted pKd: 3.889035224914551 | True pKd: 4.173924446105957\n",
      "Predicted pKd: 3.6824183464050293 | True pKd: 3.7695508003234863\n",
      "Predicted pKd: 3.636387825012207 | True pKd: 4.18708610534668\n",
      "Predicted pKd: 3.8297617435455322 | True pKd: 3.886056423187256\n",
      "Predicted pKd: 3.76499605178833 | True pKd: 3.74472713470459\n",
      "Predicted pKd: 3.9078285694122314 | True pKd: 3.886056423187256\n",
      "Predicted pKd: 3.9789092540740967 | True pKd: 3.823908567428589\n",
      "Predicted pKd: 3.887627363204956 | True pKd: 3.9586069583892822\n",
      "Predicted pKd: 4.298666954040527 | True pKd: 4.638270378112793\n",
      "Predicted pKd: 4.215537071228027 | True pKd: 4.619786739349365\n",
      "Predicted pKd: 4.244551181793213 | True pKd: 3.7695508003234863\n",
      "Predicted pKd: 3.385108470916748 | True pKd: 3.3098037242889404\n",
      "Predicted pKd: 3.2953553199768066 | True pKd: 2.522878646850586\n",
      "Predicted pKd: 3.239025354385376 | True pKd: 2.522878646850586\n",
      "Predicted pKd: 3.2972850799560547 | True pKd: 2.522878646850586\n",
      "Predicted pKd: 3.4238078594207764 | True pKd: 2.522878646850586\n",
      "Predicted pKd: 3.3502352237701416 | True pKd: 2.522878646850586\n",
      "Predicted pKd: 3.5204925537109375 | True pKd: 3.301029920578003\n",
      "Predicted pKd: 3.584984302520752 | True pKd: 2.522878646850586\n",
      "Predicted pKd: 3.8577816486358643 | True pKd: 3.187086582183838\n",
      "Predicted pKd: 3.907595157623291 | True pKd: 2.522878646850586\n",
      "Predicted pKd: 3.0145702362060547 | True pKd: 3.1549019813537598\n",
      "Predicted pKd: 3.513376474380493 | True pKd: 2.522878646850586\n",
      "Predicted pKd: 3.8964288234710693 | True pKd: 4.119185924530029\n",
      "Predicted pKd: 3.787346839904785 | True pKd: 3.9586069583892822\n",
      "Predicted pKd: 3.8614578247070312 | True pKd: 4.013227939605713\n",
      "Predicted pKd: 3.998859405517578 | True pKd: 4.1611504554748535\n",
      "Predicted pKd: 3.9909393787384033 | True pKd: 3.552841901779175\n",
      "Predicted pKd: 4.227412223815918 | True pKd: 3.920818328857422\n",
      "Predicted pKd: 4.342069149017334 | True pKd: 4.0362114906311035\n",
      "Predicted pKd: 4.696830749511719 | True pKd: 4.327901363372803\n",
      "Predicted pKd: 4.603557586669922 | True pKd: 4.096909523010254\n",
      "Predicted pKd: 4.623863697052002 | True pKd: 3.619788646697998\n",
      "Predicted pKd: 3.6041579246520996 | True pKd: 3.301029920578003\n",
      "Predicted pKd: 2.744879722595215 | True pKd: 4.060480117797852\n",
      "Predicted pKd: 2.8234522342681885 | True pKd: 3.823908567428589\n",
      "Predicted pKd: 3.0503897666931152 | True pKd: 3.602059841156006\n",
      "Predicted pKd: 2.944448232650757 | True pKd: 3.920818328857422\n",
      "Predicted pKd: 2.7676503658294678 | True pKd: 3.619788646697998\n",
      "Predicted pKd: 3.0949225425720215 | True pKd: 3.4202163219451904\n",
      "Predicted pKd: 2.8029160499572754 | True pKd: 3.6575770378112793\n",
      "Predicted pKd: 2.666569709777832 | True pKd: 2.2291479110717773\n",
      "Time taken for 100 protein-ligand pairs: 179.94964218139648\n"
     ]
    }
   ],
   "source": [
    "import time\n",
    "\n",
    "# Take just 10 data\n",
    "bindingdb_samples = load_dataset(\"BALM/BALM-benchmark\", \"BindingDB_filtered\", split=\"train[:100]\")\n",
    "\n",
    "# Let's time it! Note: This is not a batched prediction!\n",
    "start = time.time()\n",
    "predictions = []\n",
    "labels = []\n",
    "for sample in bindingdb_samples:\n",
    "    # Prepare input\n",
    "    protein_inputs = protein_tokenizer(sample[\"Target\"], return_tensors=\"pt\").to(DEVICE)\n",
    "    drug_inputs = drug_tokenizer(sample[\"Drug\"], return_tensors=\"pt\").to(DEVICE)\n",
    "    inputs = {\n",
    "        \"protein_input_ids\": protein_inputs[\"input_ids\"],\n",
    "        \"protein_attention_mask\": protein_inputs[\"attention_mask\"],\n",
    "        \"drug_input_ids\": drug_inputs[\"input_ids\"],\n",
    "        \"drug_attention_mask\": drug_inputs[\"attention_mask\"],\n",
    "    }\n",
    "    prediction = model(inputs)[\"cosine_similarity\"]\n",
    "    prediction = model.cosine_similarity_to_pkd(prediction, pkd_upper_bound=pkd_upper_bound, pkd_lower_bound=pkd_lower_bound)\n",
    "    label = torch.tensor([sample[\"Y\"]])\n",
    "\n",
    "    print(f\"Predicted pKd: {prediction.item()} | True pKd: {label.item()}\")\n",
    "    predictions.append(prediction.item())\n",
    "    labels.append(label.item())\n",
    "print(f\"Time taken for 100 protein-ligand pairs: {time.time() - start}\")"
   ]
  },
  {
   "cell_type": "code",
   "execution_count": 11,
   "metadata": {},
   "outputs": [
    {
     "data": {
      "text/plain": [
       "Text(0, 0.5, 'Predicted $pK_d$')"
      ]
     },
     "execution_count": 11,
     "metadata": {},
     "output_type": "execute_result"
    },
    {
     "data": {
      "image/png": "[encoded data removed]",
      "text/plain": [
       "<Figure size 640x480 with 1 Axes>"
      ]
     },
     "metadata": {},
     "output_type": "display_data"
    }
   ],
   "source": [
    "import seaborn as sns\n",
    "\n",
    "ax = sns.regplot(x=labels, y=predictions)\n",
    "ax.set_xlabel(r'Experimental $pK_d$',fontsize=12)\n",
    "ax.set_ylabel(r'Predicted $pK_d$',fontsize=12)\n"
   ]
  },
  {
   "cell_type": "markdown",
   "metadata": {},
   "source": [
    "# Zero-shot on new Target (MCL1)"
   ]
  },
  {
   "cell_type": "code",
   "execution_count": 12,
   "metadata": {},
   "outputs": [
    {
     "data": {
      "application/vnd.jupyter.widget-view+json": {
       "model_id": "480638a12a6e4500af979dc8fda22d60",
       "version_major": 2,
       "version_minor": 0
      },
      "text/plain": [
       "data-00000-of-00001.arrow:   0%|          | 0.00/6.39k [00:00<?, ?B/s]"
      ]
     },
     "metadata": {},
     "output_type": "display_data"
    },
    {
     "data": {
      "application/vnd.jupyter.widget-view+json": {
       "model_id": "7323ba6a29f04f5f8464a9715f0d8e4c",
       "version_major": 2,
       "version_minor": 0
      },
      "text/plain": [
       "Generating train split:   0%|          | 0/25 [00:00<?, ? examples/s]"
      ]
     },
     "metadata": {},
     "output_type": "display_data"
    }
   ],
   "source": [
    "# Note: train split is just because it's the default split for the dataset\n",
    "mcl_data = load_dataset(\"BALM/BALM-benchmark\", \"MCL1\", split=\"train\")"
   ]
  },
  {
   "cell_type": "code",
   "execution_count": 13,
   "metadata": {},
   "outputs": [
    {
     "name": "stdout",
     "output_type": "stream",
     "text": [
      "Predicted pKd: 4.687337875366211 | True pKd: 4.455932140350342\n",
      "Predicted pKd: 4.799520492553711 | True pKd: 4.823908805847168\n",
      "Predicted pKd: 4.840061664581299 | True pKd: 5.721246242523193\n",
      "Predicted pKd: 4.6916422843933105 | True pKd: 5.7695512771606445\n",
      "Predicted pKd: 4.794649600982666 | True pKd: 4.79587984085083\n",
      "Predicted pKd: 4.777118682861328 | True pKd: 5.0087738037109375\n",
      "Predicted pKd: 4.694001197814941 | True pKd: 5.004364967346191\n",
      "Predicted pKd: 4.922251224517822 | True pKd: 6.4202165603637695\n",
      "Predicted pKd: 4.802126884460449 | True pKd: 5.958607196807861\n",
      "Predicted pKd: 5.07747745513916 | True pKd: 6.522878646850586\n",
      "Predicted pKd: 4.931079864501953 | True pKd: 5.12493896484375\n",
      "Predicted pKd: 4.930351734161377 | True pKd: 5.537601947784424\n",
      "Predicted pKd: 5.17240047454834 | True pKd: 4.207608222961426\n",
      "Predicted pKd: 5.050621509552002 | True pKd: 4.853871822357178\n",
      "Predicted pKd: 5.165882110595703 | True pKd: 6.091515064239502\n",
      "Predicted pKd: 5.262083053588867 | True pKd: 6.79587984085083\n",
      "Predicted pKd: 5.146811008453369 | True pKd: 6.721246242523193\n",
      "Predicted pKd: 5.243717670440674 | True pKd: 7.259637355804443\n",
      "Predicted pKd: 5.038331031799316 | True pKd: 6.744727611541748\n",
      "Predicted pKd: 5.32003927230835 | True pKd: 6.853871822357178\n",
      "Predicted pKd: 4.607152462005615 | True pKd: 6.494850158691406\n",
      "Predicted pKd: 4.711674690246582 | True pKd: 5.886056423187256\n",
      "Predicted pKd: 4.652307510375977 | True pKd: 6.602059841156006\n",
      "Predicted pKd: 4.707118988037109 | True pKd: 6.12493896484375\n",
      "Predicted pKd: 4.313188076019287 | True pKd: 5.522878646850586\n",
      "Time taken for zero-shot prediction: 24.771491050720215\n"
     ]
    }
   ],
   "source": [
    "start = time.time()\n",
    "for sample in mcl_data:\n",
    "    # Prepare input\n",
    "    protein_inputs = protein_tokenizer(sample[\"Target\"], return_tensors=\"pt\").to(DEVICE)\n",
    "    drug_inputs = drug_tokenizer(sample[\"Drug\"], return_tensors=\"pt\").to(DEVICE)\n",
    "    inputs = {\n",
    "        \"protein_input_ids\": protein_inputs[\"input_ids\"],\n",
    "        \"protein_attention_mask\": protein_inputs[\"attention_mask\"],\n",
    "        \"drug_input_ids\": drug_inputs[\"input_ids\"],\n",
    "        \"drug_attention_mask\": drug_inputs[\"attention_mask\"],\n",
    "    }\n",
    "    prediction = model(inputs)[\"cosine_similarity\"]\n",
    "    prediction = model.cosine_similarity_to_pkd(prediction, pkd_upper_bound=pkd_upper_bound, pkd_lower_bound=pkd_lower_bound)\n",
    "    label = torch.tensor([sample[\"Y\"]])\n",
    "\n",
    "    print(f\"Predicted pKd: {prediction.item()} | True pKd: {label.item()}\")\n",
    "    predictions.append(prediction.item())\n",
    "    labels.append(label.item())\n",
    "print(f\"Time taken for zero-shot prediction: {time.time() - start}\")"
   ]
  },
  {
   "cell_type": "code",
   "execution_count": 14,
   "metadata": {},
   "outputs": [
    {
     "name": "stdout",
     "output_type": "stream",
     "text": [
      "RMSE: 0.932243824005127\n",
      "Pearson: 0.9117612838745117\n",
      "Spearman: 0.8908201341159971\n",
      "CI: 0.8582196235656738\n"
     ]
    },
    {
     "data": {
      "text/plain": [
       "Text(0, 0.5, 'Predicted $pK_d$')"
      ]
     },
     "execution_count": 14,
     "metadata": {},
     "output_type": "execute_result"
    },
    {
     "data": {
      "image/png": "[encoded data removed]",
      "text/plain": [
       "<Figure size 640x480 with 1 Axes>"
      ]
     },
     "metadata": {},
     "output_type": "display_data"
    }
   ],
   "source": [
    "from balm.metrics import get_ci, get_pearson, get_rmse, get_spearman\n",
    "\n",
    "rmse = get_rmse(torch.tensor(labels), torch.tensor(predictions))\n",
    "pearson = get_pearson(torch.tensor(labels), torch.tensor(predictions))\n",
    "spearman = get_spearman(torch.tensor(labels), torch.tensor(predictions))\n",
    "ci = get_ci(torch.tensor(labels), torch.tensor(predictions))\n",
    "\n",
    "print(f\"RMSE: {rmse}\")\n",
    "print(f\"Pearson: {pearson}\")\n",
    "print(f\"Spearman: {spearman}\")\n",
    "print(f\"CI: {ci}\")\n",
    "\n",
    "ax = sns.regplot(x=labels, y=predictions)\n",
    "ax.set_title(f\"MCL1\")\n",
    "ax.set_xlabel(r'Experimental $pK_d$',fontsize=12)\n",
    "ax.set_ylabel(r'Predicted $pK_d$',fontsize=12)"
   ]
  },
  {
   "cell_type": "markdown",
   "metadata": {},
   "source": [
    "# Few shot training\n",
    "\n",
    "Note: This is a simplified training process, for a more tested approach, please refer to our `balm/trainer.py`"
   ]
  },
  {
   "cell_type": "code",
   "execution_count": 15,
   "metadata": {},
   "outputs": [],
   "source": [
    "# Split data\n",
    "train_test_split = mcl_data.train_test_split(train_size=0.2, seed=1234)\n",
    "\n",
    "train_mcl_data = train_test_split[\"train\"]\n",
    "test_mcl_data = train_test_split[\"test\"]"
   ]
  },
  {
   "cell_type": "code",
   "execution_count": 16,
   "metadata": {},
   "outputs": [
    {
     "data": {
      "application/vnd.jupyter.widget-view+json": {
       "model_id": "89d5f9d91fe944e39d20afc32c27c5c6",
       "version_major": 2,
       "version_minor": 0
      },
      "text/plain": [
       "Map:   0%|          | 0/5 [00:00<?, ? examples/s]"
      ]
     },
     "metadata": {},
     "output_type": "display_data"
    },
    {
     "data": {
      "application/vnd.jupyter.widget-view+json": {
       "model_id": "10ef03cdd2114ec39a4c50aff57d111b",
       "version_major": 2,
       "version_minor": 0
      },
      "text/plain": [
       "Map:   0%|          | 0/20 [00:00<?, ? examples/s]"
      ]
     },
     "metadata": {},
     "output_type": "display_data"
    }
   ],
   "source": [
    "# Define a function that applies the cosine similarity conversion to a single example\n",
    "# This is VERY IMPORTANT since BALM uses cosine similarity\n",
    "def add_cosine_similarity(example, pkd_upper_bound, pkd_lower_bound):\n",
    "    example['cosine_similarity'] = (\n",
    "        (example['Y'] - pkd_lower_bound)\n",
    "        / (pkd_upper_bound - pkd_lower_bound)\n",
    "        * 2\n",
    "        - 1\n",
    "    )\n",
    "    return example\n",
    "\n",
    "# Use map to apply the function across the entire dataset\n",
    "train_mcl_data = train_mcl_data.map(lambda x: add_cosine_similarity(x, pkd_upper_bound, pkd_lower_bound))\n",
    "test_mcl_data = test_mcl_data.map(lambda x: add_cosine_similarity(x, pkd_upper_bound, pkd_lower_bound))"
   ]
  },
  {
   "cell_type": "code",
   "execution_count": 17,
   "metadata": {},
   "outputs": [
    {
     "name": "stdout",
     "output_type": "stream",
     "text": [
      "Number of train data: 5\n",
      "Number of test data: 20\n"
     ]
    }
   ],
   "source": [
    "print(f\"Number of train data: {len(train_mcl_data)}\")\n",
    "print(f\"Number of test data: {len(test_mcl_data)}\")"
   ]
  },
  {
   "cell_type": "code",
   "execution_count": 18,
   "metadata": {},
   "outputs": [
    {
     "name": "stderr",
     "output_type": "stream",
     "text": [
      "Some weights of EsmModel were not initialized from the model checkpoint at facebook/esm2_t30_150M_UR50D and are newly initialized: ['esm.pooler.dense.bias', 'esm.pooler.dense.weight']\n",
      "You should probably TRAIN this model on a down-stream task to be able to use it for predictions and inference.\n",
      "Some weights of RobertaModel were not initialized from the model checkpoint at DeepChem/ChemBERTa-77M-MTR and are newly initialized: ['roberta.pooler.dense.bias', 'roberta.pooler.dense.weight']\n",
      "You should probably TRAIN this model on a down-stream task to be able to use it for predictions and inference.\n"
     ]
    },
    {
     "name": "stdout",
     "output_type": "stream",
     "text": [
      "trainable params: 128,160 || all params: 148,923,641 || trainable%: 0.0861\n",
      "trainable params: 221,184 || all params: 3,648,624 || trainable%: 6.0621\n",
      "Loading checkpoint from BALM/bdb-cleaned-r-esm-lokr-chemberta-loha-cosinemse\n",
      "Merging protein model with its adapter\n",
      "Merging drug model with its adapter\n",
      "protein_projection.weight\n",
      "protein_projection.bias\n",
      "drug_projection.weight\n",
      "drug_projection.bias\n",
      "trainable params: 262,656 || all params: 152,485,577 || trainable%: 0.17224973349446682\n"
     ]
    }
   ],
   "source": [
    "model = BALM(configs.model_configs)\n",
    "model = load_trained_model(model, configs.model_configs, is_training=True)\n",
    "model = model.to(DEVICE)"
   ]
  },
  {
   "cell_type": "code",
   "execution_count": 19,
   "metadata": {},
   "outputs": [
    {
     "name": "stdout",
     "output_type": "stream",
     "text": [
      "Epoch [1/10], Loss: 0.0873\n",
      "Epoch [2/10], Loss: 0.0292\n",
      "Epoch [3/10], Loss: 0.0394\n",
      "Epoch [4/10], Loss: 0.0314\n",
      "Epoch [5/10], Loss: 0.0247\n",
      "Epoch [6/10], Loss: 0.0246\n",
      "Epoch [7/10], Loss: 0.0266\n",
      "Epoch [8/10], Loss: 0.0162\n",
      "Epoch [9/10], Loss: 0.0204\n",
      "Epoch [10/10], Loss: 0.0164\n",
      "Training complete! Time taken:  51.51147794723511\n"
     ]
    }
   ],
   "source": [
    "from torch.optim import AdamW\n",
    "\n",
    "NUM_EPOCHS = 10\n",
    "optimizer = AdamW(\n",
    "    params=[\n",
    "        param\n",
    "        for name, param in model.named_parameters()\n",
    "    ],\n",
    "    lr=configs.model_configs.model_hyperparameters.learning_rate,\n",
    ")\n",
    "\n",
    "start = time.time()\n",
    "for epoch in range(NUM_EPOCHS):\n",
    "    model.train()  # Set the model to training mode\n",
    "    total_loss = 0.0  # To track the loss for each epoch\n",
    "\n",
    "    for sample in train_mcl_data:\n",
    "        # Prepare input\n",
    "        protein_inputs = protein_tokenizer(sample[\"Target\"], return_tensors=\"pt\").to(DEVICE)\n",
    "        drug_inputs = drug_tokenizer(sample[\"Drug\"], return_tensors=\"pt\").to(DEVICE)\n",
    "        # Move labels to the appropriate device and ensure it's a tensor\n",
    "        labels = torch.tensor([sample[\"cosine_similarity\"]], dtype=torch.float32).to(DEVICE)\n",
    "\n",
    "        inputs = {\n",
    "            \"protein_input_ids\": protein_inputs[\"input_ids\"],\n",
    "            \"protein_attention_mask\": protein_inputs[\"attention_mask\"],\n",
    "            \"drug_input_ids\": drug_inputs[\"input_ids\"],\n",
    "            \"drug_attention_mask\": drug_inputs[\"attention_mask\"],\n",
    "            \"labels\": labels,  # Add labels for training\n",
    "        }\n",
    "\n",
    "        # Forward pass\n",
    "        outputs = model(inputs)\n",
    "\n",
    "        # Assume the model's output dictionary contains 'loss'\n",
    "        loss = outputs[\"loss\"]\n",
    "\n",
    "        # Backpropagation\n",
    "        optimizer.zero_grad()  # Zero out the gradients to avoid accumulation\n",
    "        loss.backward()  # Compute gradients\n",
    "        optimizer.step()  # Update model parameters\n",
    "\n",
    "        total_loss += loss.item()\n",
    "    \n",
    "    # Log the loss for this epoch\n",
    "    avg_loss = total_loss / len(train_mcl_data)\n",
    "    print(f\"Epoch [{epoch+1}/{NUM_EPOCHS}], Loss: {avg_loss:.4f}\")\n",
    "\n",
    "print(\"Training complete! Time taken: \", time.time() - start)"
   ]
  },
  {
   "cell_type": "markdown",
   "metadata": {},
   "source": [
    "## Test the model!"
   ]
  },
  {
   "cell_type": "code",
   "execution_count": 20,
   "metadata": {},
   "outputs": [
    {
     "name": "stdout",
     "output_type": "stream",
     "text": [
      "Predicted pKd: 5.965458869934082 | True pKd: 5.886056423187256\n",
      "Predicted pKd: 5.996294975280762 | True pKd: 6.522878646850586\n",
      "Predicted pKd: 5.8233137130737305 | True pKd: 4.853871822357178\n",
      "Predicted pKd: 5.740767478942871 | True pKd: 5.12493896484375\n",
      "Predicted pKd: 5.9644904136657715 | True pKd: 6.12493896484375\n",
      "Predicted pKd: 5.654372215270996 | True pKd: 5.0087738037109375\n",
      "Predicted pKd: 5.661068916320801 | True pKd: 5.7695512771606445\n",
      "Predicted pKd: 5.77578592300415 | True pKd: 5.522878646850586\n",
      "Predicted pKd: 5.755428791046143 | True pKd: 5.958607196807861\n",
      "Predicted pKd: 5.7984490394592285 | True pKd: 5.721246242523193\n",
      "Predicted pKd: 6.194129467010498 | True pKd: 7.259637355804443\n",
      "Predicted pKd: 5.556243419647217 | True pKd: 4.455932140350342\n",
      "Predicted pKd: 6.105380535125732 | True pKd: 6.721246242523193\n",
      "Predicted pKd: 5.90826416015625 | True pKd: 5.537601947784424\n",
      "Predicted pKd: 6.161271572113037 | True pKd: 6.79587984085083\n",
      "Predicted pKd: 5.935245513916016 | True pKd: 4.207608222961426\n",
      "Predicted pKd: 5.992870330810547 | True pKd: 6.602059841156006\n",
      "Predicted pKd: 5.841246604919434 | True pKd: 6.4202165603637695\n",
      "Predicted pKd: 5.656221389770508 | True pKd: 5.004364967346191\n",
      "Predicted pKd: 5.73607063293457 | True pKd: 4.79587984085083\n",
      "Time taken for 20 protein-ligand pairs: 70.2890419960022\n"
     ]
    }
   ],
   "source": [
    "model = model.eval()\n",
    "\n",
    "predictions = []\n",
    "labels = []\n",
    "for sample in test_mcl_data:\n",
    "    # Prepare input\n",
    "    protein_inputs = protein_tokenizer(sample[\"Target\"], return_tensors=\"pt\").to(DEVICE)\n",
    "    drug_inputs = drug_tokenizer(sample[\"Drug\"], return_tensors=\"pt\").to(DEVICE)\n",
    "    inputs = {\n",
    "        \"protein_input_ids\": protein_inputs[\"input_ids\"],\n",
    "        \"protein_attention_mask\": protein_inputs[\"attention_mask\"],\n",
    "        \"drug_input_ids\": drug_inputs[\"input_ids\"],\n",
    "        \"drug_attention_mask\": drug_inputs[\"attention_mask\"],\n",
    "    }\n",
    "    prediction = model(inputs)[\"cosine_similarity\"]\n",
    "    prediction = model.cosine_similarity_to_pkd(prediction, pkd_upper_bound=pkd_upper_bound, pkd_lower_bound=pkd_lower_bound)\n",
    "    label = torch.tensor([sample[\"Y\"]])\n",
    "\n",
    "    print(f\"Predicted pKd: {prediction.item()} | True pKd: {label.item()}\")\n",
    "    predictions.append(prediction.item())\n",
    "    labels.append(label.item())\n",
    "print(f\"Time taken for {len(test_mcl_data)} protein-ligand pairs: {time.time() - start}\")"
   ]
  },
  {
   "cell_type": "code",
   "execution_count": 21,
   "metadata": {},
   "outputs": [
    {
     "name": "stdout",
     "output_type": "stream",
     "text": [
      "RMSE: 0.7222705483436584\n",
      "Pearson: 0.7394261956214905\n",
      "Spearman: 0.7533834586466165\n",
      "CI: 0.8052631616592407\n"
     ]
    },
    {
     "data": {
      "text/plain": [
       "Text(0, 0.5, 'Predicted $pK_d$')"
      ]
     },
     "execution_count": 21,
     "metadata": {},
     "output_type": "execute_result"
    },
    {
     "data": {
      "image/png": "[encoded data removed]",
      "text/plain": [
       "<Figure size 640x480 with 1 Axes>"
      ]
     },
     "metadata": {},
     "output_type": "display_data"
    }
   ],
   "source": [
    "from balm.metrics import get_ci, get_pearson, get_rmse, get_spearman\n",
    "\n",
    "rmse = get_rmse(torch.tensor(labels), torch.tensor(predictions))\n",
    "pearson = get_pearson(torch.tensor(labels), torch.tensor(predictions))\n",
    "spearman = get_spearman(torch.tensor(labels), torch.tensor(predictions))\n",
    "ci = get_ci(torch.tensor(labels), torch.tensor(predictions))\n",
    "\n",
    "print(f\"RMSE: {rmse}\")\n",
    "print(f\"Pearson: {pearson}\")\n",
    "print(f\"Spearman: {spearman}\")\n",
    "print(f\"CI: {ci}\")\n",
    "\n",
    "ax = sns.regplot(x=labels, y=predictions)\n",
    "ax.set_title(f\"MCL\")\n",
    "ax.set_xlabel(r'Experimental $pK_d$',fontsize=12)\n",
    "ax.set_ylabel(r'Predicted $pK_d$',fontsize=12)"
   ]
  },
  {
   "cell_type": "code",
   "execution_count": null,
   "metadata": {},
   "outputs": [],
   "source": []
  }
 ],
 "metadata": {
  "kernelspec": {
   "display_name": "Python 3 (ipykernel)",
   "language": "python",
   "name": "python3"
  },
  "language_info": {
   "codemirror_mode": {
    "name": "ipython",
    "version": 3
   },
   "file_extension": ".py",
   "mimetype": "text/x-python",
   "name": "python",
   "nbconvert_exporter": "python",
   "pygments_lexer": "ipython3",
   "version": "3.8.12"
  }
 },
 "nbformat": 4,
 "nbformat_minor": 2
}
