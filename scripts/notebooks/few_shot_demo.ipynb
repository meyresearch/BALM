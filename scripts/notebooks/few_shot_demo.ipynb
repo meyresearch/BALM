{
 "cells": [
  {
   "cell_type": "code",
   "execution_count": 1,
   "metadata": {},
   "outputs": [
    {
     "name": "stderr",
     "output_type": "stream",
     "text": [
      "/Users/aryopg/miniconda3/envs/dl_ba/lib/python3.10/site-packages/tqdm/auto.py:21: TqdmWarning: IProgress not found. Please update jupyter and ipywidgets. See https://ipywidgets.readthedocs.io/en/stable/user_install.html\n",
      "  from .autonotebook import tqdm as notebook_tqdm\n"
     ]
    }
   ],
   "source": [
    "import os\n",
    "import sys\n",
    "\n",
    "# This is to force the path to be on the same level as the dl_ba folder\n",
    "sys.path.append(\"../..\")\n",
    "\n",
    "from transformers import AutoTokenizer\n",
    "import torch\n",
    "from datasets import load_dataset\n",
    "from balm import common_utils\n",
    "from balm.models.utils import load_trained_model, load_pretrained_pkd_bounds\n",
    "from balm.configs import Configs\n",
    "from balm.models import BALM\n",
    "\n",
    "DEVICE = \"cpu\""
   ]
  },
  {
   "cell_type": "markdown",
   "metadata": {},
   "source": [
    "# Load Pretrained BindingDB BALM"
   ]
  },
  {
   "cell_type": "code",
   "execution_count": 2,
   "metadata": {},
   "outputs": [
    {
     "name": "stderr",
     "output_type": "stream",
     "text": [
      "Some weights of EsmModel were not initialized from the model checkpoint at facebook/esm2_t30_150M_UR50D and are newly initialized: ['esm.pooler.dense.weight', 'esm.pooler.dense.bias']\n",
      "You should probably TRAIN this model on a down-stream task to be able to use it for predictions and inference.\n",
      "Some weights of RobertaModel were not initialized from the model checkpoint at DeepChem/ChemBERTa-77M-MTR and are newly initialized: ['roberta.pooler.dense.weight', 'roberta.pooler.dense.bias']\n",
      "You should probably TRAIN this model on a down-stream task to be able to use it for predictions and inference.\n"
     ]
    },
    {
     "name": "stdout",
     "output_type": "stream",
     "text": [
      "trainable params: 128,160 || all params: 148,923,641 || trainable%: 0.08605752527901195\n",
      "trainable params: 221,184 || all params: 3,648,624 || trainable%: 6.062120952994882\n",
      "Loading checkpoint from BALM/bdb-cleaned-r-esm-lokr-chemberta-loha-cosinemse\n",
      "Merging protein model with its adapter\n",
      "Merging drug model with its adapter\n"
     ]
    }
   ],
   "source": [
    "config_filepath = \"../../default_configs/balm_peft.yaml\"\n",
    "configs = Configs(**common_utils.load_yaml(config_filepath))\n",
    "\n",
    "# Load the model\n",
    "model = BALM(configs.model_configs)\n",
    "model = load_trained_model(model, configs.model_configs, is_training=False)\n",
    "model.to(DEVICE)\n",
    "model.eval()\n",
    "# Pretrained pKd lower and upper bounds\n",
    "pkd_lower_bound, pkd_upper_bound = load_pretrained_pkd_bounds(configs.model_configs.checkpoint_path)\n",
    "\n",
    "# Load the tokenizers\n",
    "protein_tokenizer = AutoTokenizer.from_pretrained(\n",
    "    configs.model_configs.protein_model_name_or_path\n",
    ")\n",
    "drug_tokenizer = AutoTokenizer.from_pretrained(\n",
    "    configs.model_configs.drug_model_name_or_path\n",
    ")"
   ]
  },
  {
   "cell_type": "markdown",
   "metadata": {},
   "source": [
    "## Check if the loading is correct, the model should be able to perform well in BindingDB dataset"
   ]
  },
  {
   "cell_type": "code",
   "execution_count": 8,
   "metadata": {},
   "outputs": [
    {
     "name": "stdout",
     "output_type": "stream",
     "text": [
      "Cosine similarity: 0.7144517302513123\n",
      "Predicted pKd: 8.857807159423828 | True pKd: 9.251811981201172\n",
      "Cosine similarity: 0.7312068939208984\n",
      "Predicted pKd: 8.924827575683594 | True pKd: 9.229147911071777\n",
      "Cosine similarity: 0.6613336801528931\n",
      "Predicted pKd: 8.645334243774414 | True pKd: 9.031517028808594\n",
      "Cosine similarity: 0.7064732313156128\n",
      "Predicted pKd: 8.82589340209961 | True pKd: 9.522878646850586\n",
      "Cosine similarity: 0.7327780723571777\n",
      "Predicted pKd: 8.931112289428711 | True pKd: 9.585026741027832\n",
      "Cosine similarity: 0.7481108903884888\n",
      "Predicted pKd: 8.992443084716797 | True pKd: 9.376750946044922\n",
      "Cosine similarity: 0.6758778095245361\n",
      "Predicted pKd: 8.703511238098145 | True pKd: 9.638272285461426\n",
      "Cosine similarity: 0.7235785722732544\n",
      "Predicted pKd: 8.89431381225586 | True pKd: 9.698969841003418\n",
      "Cosine similarity: 0.7042303681373596\n",
      "Predicted pKd: 8.81692123413086 | True pKd: 9.698969841003418\n",
      "Cosine similarity: 0.7042303681373596\n",
      "Predicted pKd: 8.81692123413086 | True pKd: 8.74472713470459\n",
      "Cosine similarity: 0.7256646752357483\n",
      "Predicted pKd: 8.902658462524414 | True pKd: 9.638272285461426\n",
      "Cosine similarity: -0.04606665298342705\n",
      "Predicted pKd: 5.815733432769775 | True pKd: 5.394684314727783\n",
      "Cosine similarity: 0.4201182723045349\n",
      "Predicted pKd: 7.680473327636719 | True pKd: 6.6987528800964355\n",
      "Cosine similarity: 0.3389669954776764\n",
      "Predicted pKd: 7.355867862701416 | True pKd: 7.11861515045166\n",
      "Cosine similarity: 0.3271852135658264\n",
      "Predicted pKd: 7.308740615844727 | True pKd: 6.638083457946777\n",
      "Cosine similarity: 0.45633944869041443\n",
      "Predicted pKd: 7.825357913970947 | True pKd: 6.920456886291504\n",
      "Cosine similarity: -0.05525286868214607\n",
      "Predicted pKd: 5.778988838195801 | True pKd: 6.180390357971191\n",
      "Cosine similarity: 0.41880616545677185\n",
      "Predicted pKd: 7.675224781036377 | True pKd: 6.628747463226318\n",
      "Cosine similarity: 0.3359118402004242\n",
      "Predicted pKd: 7.343647480010986 | True pKd: 7.096367359161377\n",
      "Cosine similarity: 0.32364147901535034\n",
      "Predicted pKd: 7.2945661544799805 | True pKd: 7.567030906677246\n",
      "Cosine similarity: 0.4572518467903137\n",
      "Predicted pKd: 7.829007148742676 | True pKd: 7.551293849945068\n",
      "Cosine similarity: 0.12528643012046814\n",
      "Predicted pKd: 6.501145839691162 | True pKd: 7.345823287963867\n",
      "Cosine similarity: 0.4148220717906952\n",
      "Predicted pKd: 7.65928840637207 | True pKd: 9.259636878967285\n",
      "Cosine similarity: 0.44514748454093933\n",
      "Predicted pKd: 7.780590057373047 | True pKd: 9.221848487854004\n",
      "Cosine similarity: 0.4148220717906952\n",
      "Predicted pKd: 7.65928840637207 | True pKd: 9.221848487854004\n",
      "Cosine similarity: 0.44514748454093933\n",
      "Predicted pKd: 7.780590057373047 | True pKd: 9.022275924682617\n",
      "Cosine similarity: 0.050299257040023804\n",
      "Predicted pKd: 6.201197147369385 | True pKd: 8.698969841003418\n",
      "Cosine similarity: 0.49017447233200073\n",
      "Predicted pKd: 7.960698127746582 | True pKd: 8.853872299194336\n",
      "Cosine similarity: -0.1623029112815857\n",
      "Predicted pKd: 5.350788116455078 | True pKd: 9.494850158691406\n",
      "Cosine similarity: 0.8009433150291443\n",
      "Predicted pKd: 9.203773498535156 | True pKd: 9.366531372070312\n",
      "Cosine similarity: 0.2994588315486908\n",
      "Predicted pKd: 7.197835445404053 | True pKd: 9.714442253112793\n",
      "Cosine similarity: -0.5767273306846619\n",
      "Predicted pKd: 3.6930906772613525 | True pKd: 4.366530418395996\n",
      "Cosine similarity: -0.5901572108268738\n",
      "Predicted pKd: 3.639371156692505 | True pKd: 4.309803009033203\n",
      "Cosine similarity: -0.5729007124900818\n",
      "Predicted pKd: 3.708397150039673 | True pKd: 4.468519687652588\n",
      "Cosine similarity: -0.5410702228546143\n",
      "Predicted pKd: 3.835719108581543 | True pKd: 4.638270378112793\n",
      "Cosine similarity: -0.5559697151184082\n",
      "Predicted pKd: 3.776121139526367 | True pKd: 4.337241172790527\n",
      "Cosine similarity: -0.5172190070152283\n",
      "Predicted pKd: 3.931123971939087 | True pKd: 4.309803009033203\n",
      "Cosine similarity: -0.4982951879501343\n",
      "Predicted pKd: 4.006819248199463 | True pKd: 4.638270378112793\n",
      "Cosine similarity: -0.5227454900741577\n",
      "Predicted pKd: 3.909018039703369 | True pKd: 4.3467864990234375\n",
      "Cosine similarity: -0.4813951849937439\n",
      "Predicted pKd: 4.074419021606445 | True pKd: 4.455930709838867\n",
      "Cosine similarity: -0.4166624844074249\n",
      "Predicted pKd: 4.33335018157959 | True pKd: 4.366530418395996\n",
      "Cosine similarity: -0.43772074580192566\n",
      "Predicted pKd: 4.249116897583008 | True pKd: 4.3979387283325195\n",
      "Cosine similarity: -0.5556671619415283\n",
      "Predicted pKd: 3.7773313522338867 | True pKd: 3.79587984085083\n",
      "Cosine similarity: -0.4304071366786957\n",
      "Predicted pKd: 4.278371334075928 | True pKd: 4.236571311950684\n",
      "Cosine similarity: -0.6513932347297668\n",
      "Predicted pKd: 3.3944270610809326 | True pKd: 4.154901504516602\n",
      "Cosine similarity: -0.4592781364917755\n",
      "Predicted pKd: 4.1628875732421875 | True pKd: 4.18708610534668\n",
      "Cosine similarity: -0.5035932660102844\n",
      "Predicted pKd: 3.9856269359588623 | True pKd: 4.420215129852295\n",
      "Cosine similarity: -0.48458221554756165\n",
      "Predicted pKd: 4.061671257019043 | True pKd: 4.283995628356934\n",
      "Cosine similarity: -0.44759929180145264\n",
      "Predicted pKd: 4.2096028327941895 | True pKd: 4.638270378112793\n",
      "Cosine similarity: -0.43517571687698364\n",
      "Predicted pKd: 4.2592973709106445 | True pKd: 4.366530418395996\n",
      "Cosine similarity: -0.3503483533859253\n",
      "Predicted pKd: 4.598606586456299 | True pKd: 4.130767822265625\n",
      "Cosine similarity: -0.31147244572639465\n",
      "Predicted pKd: 4.754110336303711 | True pKd: 4.18708610534668\n",
      "Cosine similarity: -0.3655781149864197\n",
      "Predicted pKd: 4.537687301635742 | True pKd: 4.3979387283325195\n",
      "Cosine similarity: -0.3021027445793152\n",
      "Predicted pKd: 4.79158878326416 | True pKd: 4.823905944824219\n",
      "Cosine similarity: -0.21411637961864471\n",
      "Predicted pKd: 5.1435346603393555 | True pKd: 4.455930709838867\n",
      "Cosine similarity: -0.23857197165489197\n",
      "Predicted pKd: 5.045711994171143 | True pKd: 4.244124412536621\n",
      "Cosine similarity: -0.4360281825065613\n",
      "Predicted pKd: 4.255887031555176 | True pKd: 4.1611504554748535\n",
      "Cosine similarity: -0.23503971099853516\n",
      "Predicted pKd: 5.059841156005859 | True pKd: 3.79587984085083\n",
      "Cosine similarity: -0.5277414321899414\n",
      "Predicted pKd: 3.8890342712402344 | True pKd: 4.173924446105957\n",
      "Cosine similarity: -0.579395592212677\n",
      "Predicted pKd: 3.682417631149292 | True pKd: 3.7695508003234863\n",
      "Cosine similarity: -0.590903103351593\n",
      "Predicted pKd: 3.636387586593628 | True pKd: 4.18708610534668\n",
      "Cosine similarity: -0.5425596833229065\n",
      "Predicted pKd: 3.829761266708374 | True pKd: 3.886056423187256\n",
      "Cosine similarity: -0.558751106262207\n",
      "Predicted pKd: 3.764995574951172 | True pKd: 3.74472713470459\n",
      "Cosine similarity: -0.5230429768562317\n",
      "Predicted pKd: 3.9078280925750732 | True pKd: 3.886056423187256\n",
      "Cosine similarity: -0.5052727460861206\n",
      "Predicted pKd: 3.9789090156555176 | True pKd: 3.823908567428589\n",
      "Cosine similarity: -0.528093159198761\n",
      "Predicted pKd: 3.887627363204956 | True pKd: 3.9586069583892822\n",
      "Cosine similarity: -0.4253333508968353\n",
      "Predicted pKd: 4.298666477203369 | True pKd: 4.638270378112793\n",
      "Cosine similarity: -0.4461158514022827\n",
      "Predicted pKd: 4.215536594390869 | True pKd: 4.619786739349365\n",
      "Cosine similarity: -0.43886226415634155\n",
      "Predicted pKd: 4.244550704956055 | True pKd: 3.7695508003234863\n",
      "Cosine similarity: -0.6537230610847473\n",
      "Predicted pKd: 3.3851077556610107 | True pKd: 3.3098037242889404\n",
      "Cosine similarity: -0.6761612892150879\n",
      "Predicted pKd: 3.2953548431396484 | True pKd: 2.522878646850586\n",
      "Cosine similarity: -0.690243661403656\n",
      "Predicted pKd: 3.239025354385376 | True pKd: 2.522878646850586\n",
      "Cosine similarity: -0.6756786108016968\n",
      "Predicted pKd: 3.297285556793213 | True pKd: 2.522878646850586\n",
      "Cosine similarity: -0.6440480947494507\n",
      "Predicted pKd: 3.4238076210021973 | True pKd: 2.522878646850586\n",
      "Cosine similarity: -0.6624412536621094\n",
      "Predicted pKd: 3.3502349853515625 | True pKd: 2.522878646850586\n",
      "Cosine similarity: -0.6198769211769104\n",
      "Predicted pKd: 3.5204923152923584 | True pKd: 3.301029920578003\n",
      "Cosine similarity: -0.603753924369812\n",
      "Predicted pKd: 3.584984302520752 | True pKd: 2.522878646850586\n",
      "Cosine similarity: -0.5355545282363892\n",
      "Predicted pKd: 3.8577818870544434 | True pKd: 3.187086582183838\n",
      "Cosine similarity: -0.5231011509895325\n",
      "Predicted pKd: 3.90759539604187 | True pKd: 2.522878646850586\n",
      "Cosine similarity: -0.7463576197624207\n",
      "Predicted pKd: 3.0145695209503174 | True pKd: 3.1549019813537598\n",
      "Cosine similarity: -0.6216557621955872\n",
      "Predicted pKd: 3.5133769512176514 | True pKd: 2.522878646850586\n",
      "Cosine similarity: -0.5258927345275879\n",
      "Predicted pKd: 3.8964290618896484 | True pKd: 4.119185924530029\n",
      "Cosine similarity: -0.5531630516052246\n",
      "Predicted pKd: 3.7873477935791016 | True pKd: 3.9586069583892822\n",
      "Cosine similarity: -0.5346352458000183\n",
      "Predicted pKd: 3.8614590167999268 | True pKd: 4.013227939605713\n",
      "Cosine similarity: -0.5002850294113159\n",
      "Predicted pKd: 3.9988598823547363 | True pKd: 4.1611504554748535\n",
      "Cosine similarity: -0.5022649765014648\n",
      "Predicted pKd: 3.9909400939941406 | True pKd: 3.552841901779175\n",
      "Cosine similarity: -0.4431467056274414\n",
      "Predicted pKd: 4.227413177490234 | True pKd: 3.920818328857422\n",
      "Cosine similarity: -0.41448256373405457\n",
      "Predicted pKd: 4.342069625854492 | True pKd: 4.0362114906311035\n",
      "Cosine similarity: -0.3257920742034912\n",
      "Predicted pKd: 4.696831703186035 | True pKd: 4.327901363372803\n",
      "Cosine similarity: -0.3491103947162628\n",
      "Predicted pKd: 4.603558540344238 | True pKd: 4.096909523010254\n",
      "Cosine similarity: -0.3440339267253876\n",
      "Predicted pKd: 4.62386417388916 | True pKd: 3.619788646697998\n",
      "Cosine similarity: -0.5989603996276855\n",
      "Predicted pKd: 3.604158401489258 | True pKd: 3.301029920578003\n",
      "Cosine similarity: -0.8137801289558411\n",
      "Predicted pKd: 2.7448794841766357 | True pKd: 4.060480117797852\n",
      "Cosine similarity: -0.7941369414329529\n",
      "Predicted pKd: 2.8234522342681885 | True pKd: 3.823908567428589\n",
      "Cosine similarity: -0.7374026775360107\n",
      "Predicted pKd: 3.050389289855957 | True pKd: 3.602059841156006\n",
      "Cosine similarity: -0.7638879418373108\n",
      "Predicted pKd: 2.944448232650757 | True pKd: 3.920818328857422\n",
      "Cosine similarity: -0.8080875873565674\n",
      "Predicted pKd: 2.7676496505737305 | True pKd: 3.619788646697998\n",
      "Cosine similarity: -0.7262693047523499\n",
      "Predicted pKd: 3.0949227809906006 | True pKd: 3.4202163219451904\n",
      "Cosine similarity: -0.7992710471153259\n",
      "Predicted pKd: 2.8029158115386963 | True pKd: 3.6575770378112793\n",
      "Cosine similarity: -0.8333576321601868\n",
      "Predicted pKd: 2.666569471359253 | True pKd: 2.2291479110717773\n",
      "Time taken for 100 protein-ligand pairs: 33.291866064071655\n"
     ]
    }
   ],
   "source": [
    "import time\n",
    "\n",
    "# Take just 10 data\n",
    "bindingdb_samples = load_dataset(\"BALM/BALM-benchmark\", \"BindingDB_filtered\", split=\"train[:100]\")\n",
    "\n",
    "# Let's time it! Note: This is not a batched prediction!\n",
    "start = time.time()\n",
    "predictions = []\n",
    "labels = []\n",
    "for sample in bindingdb_samples:\n",
    "    # Prepare input\n",
    "    protein_inputs = protein_tokenizer(sample[\"Target\"], return_tensors=\"pt\").to(DEVICE)\n",
    "    drug_inputs = drug_tokenizer(sample[\"Drug\"], return_tensors=\"pt\").to(DEVICE)\n",
    "    inputs = {\n",
    "        \"protein_input_ids\": protein_inputs[\"input_ids\"],\n",
    "        \"protein_attention_mask\": protein_inputs[\"attention_mask\"],\n",
    "        \"drug_input_ids\": drug_inputs[\"input_ids\"],\n",
    "        \"drug_attention_mask\": drug_inputs[\"attention_mask\"],\n",
    "    }\n",
    "    prediction = model(inputs)[\"cosine_similarity\"]\n",
    "    prediction = model.cosine_similarity_to_pkd(prediction, pkd_upper_bound=pkd_upper_bound, pkd_lower_bound=pkd_lower_bound)\n",
    "    label = torch.tensor([sample[\"Y\"]])\n",
    "\n",
    "    print(f\"Predicted pKd: {prediction.item()} | True pKd: {label.item()}\")\n",
    "    predictions.append(prediction.item())\n",
    "    labels.append(label.item())\n",
    "print(f\"Time taken for 100 protein-ligand pairs: {time.time() - start}\")"
   ]
  },
  {
   "cell_type": "code",
   "execution_count": 10,
   "metadata": {},
   "outputs": [
    {
     "data": {
      "text/plain": [
       "Text(0, 0.5, 'Predicted pKd')"
      ]
     },
     "execution_count": 10,
     "metadata": {},
     "output_type": "execute_result"
    },
    {
     "data": {
      "image/png": "[encoded data removed]",
      "text/plain": [
       "<Figure size 640x480 with 1 Axes>"
      ]
     },
     "metadata": {},
     "output_type": "display_data"
    }
   ],
   "source": [
    "import seaborn as sns\n",
    "\n",
    "ax = sns.regplot(x=labels, y=predictions)\n",
    "ax.set_xlabel(\"True pKd\")\n",
    "ax.set_ylabel(\"Predicted pKd\")"
   ]
  },
  {
   "cell_type": "markdown",
   "metadata": {},
   "source": [
    "# Zero-shot on new Target (SYK)"
   ]
  },
  {
   "cell_type": "code",
   "execution_count": 11,
   "metadata": {},
   "outputs": [
    {
     "name": "stderr",
     "output_type": "stream",
     "text": [
      "Downloading data: 100%|██████████| 16.4k/16.4k [00:00<00:00, 34.4kB/s]\n",
      "Downloading data files: 100%|██████████| 1/1 [00:00<00:00,  2.05it/s]\n",
      "Extracting data files: 100%|██████████| 1/1 [00:00<00:00, 333.57it/s]\n",
      "Generating train split: 100%|██████████| 44/44 [00:00<00:00, 100.84 examples/s]\n"
     ]
    }
   ],
   "source": [
    "# Note: train split is just because it's the default split for the dataset\n",
    "syk_data = load_dataset(\"BALM/BALM-benchmark\", \"SYK\", split=\"train\")"
   ]
  },
  {
   "cell_type": "code",
   "execution_count": 12,
   "metadata": {},
   "outputs": [
    {
     "name": "stdout",
     "output_type": "stream",
     "text": [
      "Predicted pKd: 5.818968772888184 | True pKd: 7.752026557922363\n",
      "Predicted pKd: 6.0076518058776855 | True pKd: 7.187086582183838\n",
      "Predicted pKd: 5.964358329772949 | True pKd: 9.07572078704834\n",
      "Predicted pKd: 6.037625789642334 | True pKd: 7.8181562423706055\n",
      "Predicted pKd: 5.947612762451172 | True pKd: 8.050609588623047\n",
      "Predicted pKd: 5.88356876373291 | True pKd: 8.585026741027832\n",
      "Predicted pKd: 6.11812686920166 | True pKd: 8.366531372070312\n",
      "Predicted pKd: 5.98499870300293 | True pKd: 8.657577514648438\n",
      "Predicted pKd: 6.406008243560791 | True pKd: 8.823908805847168\n",
      "Predicted pKd: 5.928587436676025 | True pKd: 7.782516002655029\n",
      "Predicted pKd: 5.993487358093262 | True pKd: 7.931814193725586\n",
      "Predicted pKd: 6.077610969543457 | True pKd: 7.958607196807861\n",
      "Predicted pKd: 5.835335731506348 | True pKd: 7.567030906677246\n",
      "Predicted pKd: 5.921706199645996 | True pKd: 7.2992963790893555\n",
      "Predicted pKd: 6.075243949890137 | True pKd: 7.171985149383545\n",
      "Predicted pKd: 6.079503059387207 | True pKd: 7.548213481903076\n",
      "Predicted pKd: 5.936615943908691 | True pKd: 7.427128314971924\n",
      "Predicted pKd: 6.076674938201904 | True pKd: 6.331614017486572\n",
      "Predicted pKd: 6.006059646606445 | True pKd: 7.730486869812012\n",
      "Predicted pKd: 6.0449748039245605 | True pKd: 7.193141937255859\n",
      "Predicted pKd: 5.961380958557129 | True pKd: 7.623423099517822\n",
      "Predicted pKd: 6.081772327423096 | True pKd: 6.946921348571777\n",
      "Predicted pKd: 5.465968132019043 | True pKd: 8.568635940551758\n",
      "Predicted pKd: 5.388585567474365 | True pKd: 8.42021656036377\n",
      "Predicted pKd: 5.371922492980957 | True pKd: 8.20065975189209\n",
      "Predicted pKd: 5.2625627517700195 | True pKd: 7.899629592895508\n",
      "Predicted pKd: 5.4789910316467285 | True pKd: 8.06550121307373\n",
      "Predicted pKd: 5.381400108337402 | True pKd: 7.982966423034668\n",
      "Predicted pKd: 5.767528057098389 | True pKd: 7.910094738006592\n",
      "Predicted pKd: 5.766885757446289 | True pKd: 7.679853916168213\n",
      "Predicted pKd: 5.776163101196289 | True pKd: 8.638272285461426\n",
      "Predicted pKd: 5.9863386154174805 | True pKd: 7.476253509521484\n",
      "Predicted pKd: 5.684556007385254 | True pKd: 8.327901840209961\n",
      "Predicted pKd: 5.1893391609191895 | True pKd: 7.571865081787109\n",
      "Predicted pKd: 5.349822521209717 | True pKd: 8.070581436157227\n",
      "Predicted pKd: 5.280470848083496 | True pKd: 8.154901504516602\n",
      "Predicted pKd: 5.449394226074219 | True pKd: 8.408935546875\n",
      "Predicted pKd: 5.784158229827881 | True pKd: 8.853872299194336\n",
      "Predicted pKd: 5.255444526672363 | True pKd: 8.113509178161621\n",
      "Predicted pKd: 5.657243728637695 | True pKd: 8.677781105041504\n",
      "Predicted pKd: 5.492831230163574 | True pKd: 8.42021656036377\n",
      "Predicted pKd: 5.732020378112793 | True pKd: 8.119186401367188\n",
      "Predicted pKd: 5.4123029708862305 | True pKd: 7.636387825012207\n",
      "Predicted pKd: 5.228340148925781 | True pKd: 9.356547355651855\n",
      "Time taken for 100 protein-ligand pairs: 16.419600009918213\n"
     ]
    }
   ],
   "source": [
    "start = time.time()\n",
    "for sample in syk_data:\n",
    "    # Prepare input\n",
    "    protein_inputs = protein_tokenizer(sample[\"Target\"], return_tensors=\"pt\").to(DEVICE)\n",
    "    drug_inputs = drug_tokenizer(sample[\"Drug\"], return_tensors=\"pt\").to(DEVICE)\n",
    "    inputs = {\n",
    "        \"protein_input_ids\": protein_inputs[\"input_ids\"],\n",
    "        \"protein_attention_mask\": protein_inputs[\"attention_mask\"],\n",
    "        \"drug_input_ids\": drug_inputs[\"input_ids\"],\n",
    "        \"drug_attention_mask\": drug_inputs[\"attention_mask\"],\n",
    "    }\n",
    "    prediction = model(inputs)[\"cosine_similarity\"]\n",
    "    prediction = model.cosine_similarity_to_pkd(prediction, pkd_upper_bound=pkd_upper_bound, pkd_lower_bound=pkd_lower_bound)\n",
    "    label = torch.tensor([sample[\"Y\"]])\n",
    "\n",
    "    print(f\"Predicted pKd: {prediction.item()} | True pKd: {label.item()}\")\n",
    "    predictions.append(prediction.item())\n",
    "    labels.append(label.item())\n",
    "print(f\"Time taken for 100 protein-ligand pairs: {time.time() - start}\")"
   ]
  },
  {
   "cell_type": "code",
   "execution_count": 21,
   "metadata": {},
   "outputs": [
    {
     "name": "stdout",
     "output_type": "stream",
     "text": [
      "RMSE: 1.4789866209030151\n",
      "Pearson: 0.8522670269012451\n",
      "Spearman: 0.8491755630925246\n",
      "CI: 0.8173471093177795\n"
     ]
    },
    {
     "data": {
      "text/plain": [
       "Text(0, 0.5, 'Predicted pKd')"
      ]
     },
     "execution_count": 21,
     "metadata": {},
     "output_type": "execute_result"
    },
    {
     "data": {
      "image/png": "[encoded data removed]",
      "text/plain": [
       "<Figure size 640x480 with 1 Axes>"
      ]
     },
     "metadata": {},
     "output_type": "display_data"
    }
   ],
   "source": [
    "from balm.metrics import get_ci, get_pearson, get_rmse, get_spearman\n",
    "\n",
    "rmse = get_rmse(torch.tensor(labels), torch.tensor(predictions))\n",
    "pearson = get_pearson(torch.tensor(labels), torch.tensor(predictions))\n",
    "spearman = get_spearman(torch.tensor(labels), torch.tensor(predictions))\n",
    "ci = get_ci(torch.tensor(labels), torch.tensor(predictions))\n",
    "\n",
    "print(f\"RMSE: {rmse}\")\n",
    "print(f\"Pearson: {pearson}\")\n",
    "print(f\"Spearman: {spearman}\")\n",
    "print(f\"CI: {ci}\")\n",
    "\n",
    "ax = sns.regplot(x=labels, y=predictions)\n",
    "ax.set_title(f\"SYK\")\n",
    "ax.set_xlabel(\"True pKd\")\n",
    "ax.set_ylabel(\"Predicted pKd\")"
   ]
  },
  {
   "cell_type": "markdown",
   "metadata": {},
   "source": [
    "# Few shot training\n",
    "\n",
    "Note: This is a simplified training process, for a more tested approach, please refer to our `balm/trainer.py`"
   ]
  },
  {
   "cell_type": "code",
   "execution_count": 32,
   "metadata": {},
   "outputs": [],
   "source": [
    "# Split data\n",
    "train_test_split = syk_data.train_test_split(train_size=0.2, seed=1234)\n",
    "\n",
    "train_syk_data = train_test_split[\"train\"]\n",
    "test_syk_data = train_test_split[\"test\"]"
   ]
  },
  {
   "cell_type": "code",
   "execution_count": 44,
   "metadata": {},
   "outputs": [
    {
     "name": "stderr",
     "output_type": "stream",
     "text": [
      "Map: 100%|██████████| 8/8 [00:00<00:00, 101.20 examples/s]\n",
      "Map: 100%|██████████| 36/36 [00:00<00:00, 2621.03 examples/s]\n"
     ]
    }
   ],
   "source": [
    "# Define a function that applies the cosine similarity conversion to a single example\n",
    "# This is VERY IMPORTANT since BALM uses cosine similarity\n",
    "def add_cosine_similarity(example, pkd_upper_bound, pkd_lower_bound):\n",
    "    example['cosine_similarity'] = (\n",
    "        (example['Y'] - pkd_lower_bound)\n",
    "        / (pkd_upper_bound - pkd_lower_bound)\n",
    "        * 2\n",
    "        - 1\n",
    "    )\n",
    "    return example\n",
    "\n",
    "# Use map to apply the function across the entire dataset\n",
    "train_syk_data = train_syk_data.map(lambda x: add_cosine_similarity(x, pkd_upper_bound, pkd_lower_bound))\n",
    "test_syk_data = test_syk_data.map(lambda x: add_cosine_similarity(x, pkd_upper_bound, pkd_lower_bound))"
   ]
  },
  {
   "cell_type": "code",
   "execution_count": 46,
   "metadata": {},
   "outputs": [
    {
     "name": "stdout",
     "output_type": "stream",
     "text": [
      "Number of train data: 8\n",
      "Number of test data: 36\n"
     ]
    }
   ],
   "source": [
    "print(f\"Number of train data: {len(train_syk_data)}\")\n",
    "print(f\"Number of test data: {len(test_syk_data)}\")"
   ]
  },
  {
   "cell_type": "code",
   "execution_count": 53,
   "metadata": {},
   "outputs": [
    {
     "name": "stderr",
     "output_type": "stream",
     "text": [
      "Some weights of EsmModel were not initialized from the model checkpoint at facebook/esm2_t30_150M_UR50D and are newly initialized: ['esm.pooler.dense.weight', 'esm.pooler.dense.bias']\n",
      "You should probably TRAIN this model on a down-stream task to be able to use it for predictions and inference.\n",
      "Some weights of RobertaModel were not initialized from the model checkpoint at DeepChem/ChemBERTa-77M-MTR and are newly initialized: ['roberta.pooler.dense.weight', 'roberta.pooler.dense.bias']\n",
      "You should probably TRAIN this model on a down-stream task to be able to use it for predictions and inference.\n"
     ]
    },
    {
     "name": "stdout",
     "output_type": "stream",
     "text": [
      "trainable params: 128,160 || all params: 148,923,641 || trainable%: 0.08605752527901195\n",
      "trainable params: 221,184 || all params: 3,648,624 || trainable%: 6.062120952994882\n",
      "Loading checkpoint from BALM/bdb-cleaned-r-esm-lokr-chemberta-loha-cosinemse\n",
      "Merging protein model with its adapter\n",
      "Merging drug model with its adapter\n",
      "protein_projection.weight\n",
      "protein_projection.bias\n",
      "drug_projection.weight\n",
      "drug_projection.bias\n",
      "trainable params: 262,656 || all params: 152,485,577 || trainable%: 0.17224973349446682\n"
     ]
    }
   ],
   "source": [
    "model = BALM(configs.model_configs)\n",
    "model = load_trained_model(model, configs.model_configs, is_training=True)\n",
    "model = model.to(DEVICE)"
   ]
  },
  {
   "cell_type": "code",
   "execution_count": 54,
   "metadata": {},
   "outputs": [
    {
     "name": "stdout",
     "output_type": "stream",
     "text": [
      "Epoch [1/10], Loss: 0.1612\n",
      "Epoch [2/10], Loss: 0.1078\n",
      "Epoch [3/10], Loss: 0.0503\n",
      "Epoch [4/10], Loss: 0.0259\n",
      "Epoch [5/10], Loss: 0.0298\n",
      "Epoch [6/10], Loss: 0.0251\n",
      "Epoch [7/10], Loss: 0.0186\n",
      "Epoch [8/10], Loss: 0.0172\n",
      "Epoch [9/10], Loss: 0.0158\n",
      "Epoch [10/10], Loss: 0.0193\n",
      "Training complete! Time taken:  24.598410844802856\n"
     ]
    }
   ],
   "source": [
    "from torch.optim import AdamW\n",
    "\n",
    "NUM_EPOCHS = 10\n",
    "optimizer = AdamW(\n",
    "    params=[\n",
    "        param\n",
    "        for name, param in model.named_parameters()\n",
    "    ],\n",
    "    lr=configs.model_configs.model_hyperparameters.learning_rate,\n",
    ")\n",
    "\n",
    "start = time.time()\n",
    "for epoch in range(NUM_EPOCHS):\n",
    "    model.train()  # Set the model to training mode\n",
    "    total_loss = 0.0  # To track the loss for each epoch\n",
    "\n",
    "    for sample in train_syk_data:\n",
    "        # Prepare input\n",
    "        protein_inputs = protein_tokenizer(sample[\"Target\"], return_tensors=\"pt\").to(DEVICE)\n",
    "        drug_inputs = drug_tokenizer(sample[\"Drug\"], return_tensors=\"pt\").to(DEVICE)\n",
    "        # Move labels to the appropriate device and ensure it's a tensor\n",
    "        labels = torch.tensor([sample[\"cosine_similarity\"]], dtype=torch.float32).to(DEVICE)\n",
    "\n",
    "        inputs = {\n",
    "            \"protein_input_ids\": protein_inputs[\"input_ids\"],\n",
    "            \"protein_attention_mask\": protein_inputs[\"attention_mask\"],\n",
    "            \"drug_input_ids\": drug_inputs[\"input_ids\"],\n",
    "            \"drug_attention_mask\": drug_inputs[\"attention_mask\"],\n",
    "            \"labels\": labels,  # Add labels for training\n",
    "        }\n",
    "\n",
    "        # Forward pass\n",
    "        outputs = model(inputs)\n",
    "\n",
    "        # Assume the model's output dictionary contains 'loss'\n",
    "        loss = outputs[\"loss\"]\n",
    "\n",
    "        # Backpropagation\n",
    "        optimizer.zero_grad()  # Zero out the gradients to avoid accumulation\n",
    "        loss.backward()  # Compute gradients\n",
    "        optimizer.step()  # Update model parameters\n",
    "\n",
    "        total_loss += loss.item()\n",
    "    \n",
    "    # Log the loss for this epoch\n",
    "    avg_loss = total_loss / len(train_syk_data)\n",
    "    print(f\"Epoch [{epoch+1}/{NUM_EPOCHS}], Loss: {avg_loss:.4f}\")\n",
    "\n",
    "print(\"Training complete! Time taken: \", time.time() - start)"
   ]
  },
  {
   "cell_type": "markdown",
   "metadata": {},
   "source": [
    "## Test the model!"
   ]
  },
  {
   "cell_type": "code",
   "execution_count": 55,
   "metadata": {},
   "outputs": [
    {
     "name": "stdout",
     "output_type": "stream",
     "text": [
      "Predicted pKd: 7.879589080810547 | True pKd: 7.931814193725586\n",
      "Predicted pKd: 7.5827226638793945 | True pKd: 8.327901840209961\n",
      "Predicted pKd: 7.141946792602539 | True pKd: 8.154901504516602\n",
      "Predicted pKd: 7.899535655975342 | True pKd: 7.548213481903076\n",
      "Predicted pKd: 7.705272197723389 | True pKd: 7.567030906677246\n",
      "Predicted pKd: 7.821262359619141 | True pKd: 7.782516002655029\n",
      "Predicted pKd: 7.875952243804932 | True pKd: 7.193141937255859\n",
      "Predicted pKd: 7.224105358123779 | True pKd: 8.20065975189209\n",
      "Predicted pKd: 7.112321853637695 | True pKd: 7.899629592895508\n",
      "Predicted pKd: 7.2181830406188965 | True pKd: 8.070581436157227\n",
      "Predicted pKd: 7.371707439422607 | True pKd: 8.42021656036377\n",
      "Predicted pKd: 7.676865577697754 | True pKd: 8.853872299194336\n",
      "Predicted pKd: 7.046386241912842 | True pKd: 9.356547355651855\n",
      "Predicted pKd: 7.900182723999023 | True pKd: 6.946921348571777\n",
      "Predicted pKd: 7.30898380279541 | True pKd: 8.568635940551758\n",
      "Predicted pKd: 7.274107933044434 | True pKd: 7.636387825012207\n",
      "Predicted pKd: 7.687156677246094 | True pKd: 7.752026557922363\n",
      "Predicted pKd: 7.782411098480225 | True pKd: 8.585026741027832\n",
      "Predicted pKd: 7.943498611450195 | True pKd: 7.958607196807861\n",
      "Predicted pKd: 7.640153884887695 | True pKd: 8.638272285461426\n",
      "Predicted pKd: 7.333346366882324 | True pKd: 8.408935546875\n",
      "Predicted pKd: 7.016566276550293 | True pKd: 7.571865081787109\n",
      "Predicted pKd: 7.784797191619873 | True pKd: 7.427128314971924\n",
      "Predicted pKd: 7.269503116607666 | True pKd: 8.42021656036377\n",
      "Predicted pKd: 7.3318047523498535 | True pKd: 8.06550121307373\n",
      "Predicted pKd: 7.896761894226074 | True pKd: 6.331614017486572\n",
      "Predicted pKd: 7.071516036987305 | True pKd: 8.113509178161621\n",
      "Predicted pKd: 7.899219512939453 | True pKd: 7.8181562423706055\n",
      "Predicted pKd: 7.810755252838135 | True pKd: 7.623423099517822\n",
      "Predicted pKd: 8.113471984863281 | True pKd: 8.823908805847168\n",
      "Predicted pKd: 7.645057678222656 | True pKd: 7.679853916168213\n",
      "Predicted pKd: 7.80039119720459 | True pKd: 7.2992963790893555\n",
      "Predicted pKd: 7.84589958190918 | True pKd: 9.07572078704834\n",
      "Predicted pKd: 7.654600143432617 | True pKd: 7.910094738006592\n",
      "Predicted pKd: 7.566808700561523 | True pKd: 8.677781105041504\n",
      "Predicted pKd: 7.25383186340332 | True pKd: 7.982966423034668\n",
      "Time taken for 36 protein-ligand pairs: 41.492817878723145\n"
     ]
    }
   ],
   "source": [
    "model = model.eval()\n",
    "\n",
    "predictions = []\n",
    "labels = []\n",
    "for sample in test_syk_data:\n",
    "    # Prepare input\n",
    "    protein_inputs = protein_tokenizer(sample[\"Target\"], return_tensors=\"pt\").to(DEVICE)\n",
    "    drug_inputs = drug_tokenizer(sample[\"Drug\"], return_tensors=\"pt\").to(DEVICE)\n",
    "    inputs = {\n",
    "        \"protein_input_ids\": protein_inputs[\"input_ids\"],\n",
    "        \"protein_attention_mask\": protein_inputs[\"attention_mask\"],\n",
    "        \"drug_input_ids\": drug_inputs[\"input_ids\"],\n",
    "        \"drug_attention_mask\": drug_inputs[\"attention_mask\"],\n",
    "    }\n",
    "    prediction = model(inputs)[\"cosine_similarity\"]\n",
    "    prediction = model.cosine_similarity_to_pkd(prediction, pkd_upper_bound=pkd_upper_bound, pkd_lower_bound=pkd_lower_bound)\n",
    "    label = torch.tensor([sample[\"Y\"]])\n",
    "\n",
    "    print(f\"Predicted pKd: {prediction.item()} | True pKd: {label.item()}\")\n",
    "    predictions.append(prediction.item())\n",
    "    labels.append(label.item())\n",
    "print(f\"Time taken for {len(test_syk_data)} protein-ligand pairs: {time.time() - start}\")"
   ]
  },
  {
   "cell_type": "code",
   "execution_count": 56,
   "metadata": {},
   "outputs": [
    {
     "name": "stdout",
     "output_type": "stream",
     "text": [
      "RMSE: 0.8775116205215454\n",
      "Pearson: -0.28753235936164856\n",
      "Spearman: -0.33322607701410967\n",
      "CI: 0.3990460932254791\n"
     ]
    },
    {
     "data": {
      "text/plain": [
       "Text(0, 0.5, 'Predicted pKd')"
      ]
     },
     "execution_count": 56,
     "metadata": {},
     "output_type": "execute_result"
    },
    {
     "data": {
      "image/png": "[encoded data removed]",
      "text/plain": [
       "<Figure size 640x480 with 1 Axes>"
      ]
     },
     "metadata": {},
     "output_type": "display_data"
    }
   ],
   "source": [
    "from balm.metrics import get_ci, get_pearson, get_rmse, get_spearman\n",
    "\n",
    "rmse = get_rmse(torch.tensor(labels), torch.tensor(predictions))\n",
    "pearson = get_pearson(torch.tensor(labels), torch.tensor(predictions))\n",
    "spearman = get_spearman(torch.tensor(labels), torch.tensor(predictions))\n",
    "ci = get_ci(torch.tensor(labels), torch.tensor(predictions))\n",
    "\n",
    "print(f\"RMSE: {rmse}\")\n",
    "print(f\"Pearson: {pearson}\")\n",
    "print(f\"Spearman: {spearman}\")\n",
    "print(f\"CI: {ci}\")\n",
    "\n",
    "ax = sns.regplot(x=labels, y=predictions)\n",
    "ax.set_title(f\"SYK\")\n",
    "ax.set_xlabel(\"True pKd\")\n",
    "ax.set_ylabel(\"Predicted pKd\")"
   ]
  },
  {
   "cell_type": "code",
   "execution_count": null,
   "metadata": {},
   "outputs": [],
   "source": []
  }
 ],
 "metadata": {
  "kernelspec": {
   "display_name": "dl_ba",
   "language": "python",
   "name": "python3"
  },
  "language_info": {
   "codemirror_mode": {
    "name": "ipython",
    "version": 3
   },
   "file_extension": ".py",
   "mimetype": "text/x-python",
   "name": "python",
   "nbconvert_exporter": "python",
   "pygments_lexer": "ipython3",
   "version": "3.10.12"
  }
 },
 "nbformat": 4,
 "nbformat_minor": 2
}
