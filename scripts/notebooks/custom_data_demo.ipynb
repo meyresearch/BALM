{
 "cells": [
  {
   "cell_type": "code",
   "execution_count": 1,
   "metadata": {},
   "outputs": [
    {
     "name": "stderr",
     "output_type": "stream",
     "text": [
      "/Users/rohan/opt/anaconda3/envs/mldd/lib/python3.8/site-packages/pydantic/_internal/_fields.py:132: UserWarning: Field \"model_hyperparameters\" in ModelConfigs has conflict with protected namespace \"model_\".\n",
      "\n",
      "You may be able to resolve this warning by setting `model_config['protected_namespaces'] = ()`.\n",
      "  warnings.warn(\n",
      "/Users/rohan/opt/anaconda3/envs/mldd/lib/python3.8/site-packages/pydantic/_internal/_fields.py:132: UserWarning: Field \"model_configs\" in Configs has conflict with protected namespace \"model_\".\n",
      "\n",
      "You may be able to resolve this warning by setting `model_config['protected_namespaces'] = ()`.\n",
      "  warnings.warn(\n"
     ]
    }
   ],
   "source": [
    "import os\n",
    "import sys\n",
    "\n",
    "# This is to force the path to be on the same level as the dl_ba folder\n",
    "sys.path.append(\"../..\")\n",
    "\n",
    "from transformers import AutoTokenizer\n",
    "import torch\n",
    "from datasets import load_dataset\n",
    "\n",
    "import time\n",
    "\n",
    "from balm import common_utils\n",
    "from balm.models.utils import load_trained_model, load_pretrained_pkd_bounds\n",
    "from balm.configs import Configs\n",
    "from balm.models import BALM\n",
    "\n",
    "DEVICE = \"cpu\""
   ]
  },
  {
   "cell_type": "markdown",
   "metadata": {},
   "source": [
    "# Load Pretrained BindingDB BALM"
   ]
  },
  {
   "cell_type": "code",
   "execution_count": 2,
   "metadata": {},
   "outputs": [
    {
     "name": "stderr",
     "output_type": "stream",
     "text": [
      "Some weights of EsmModel were not initialized from the model checkpoint at facebook/esm2_t30_150M_UR50D and are newly initialized: ['esm.pooler.dense.bias', 'esm.pooler.dense.weight']\n",
      "You should probably TRAIN this model on a down-stream task to be able to use it for predictions and inference.\n",
      "Some weights of RobertaModel were not initialized from the model checkpoint at DeepChem/ChemBERTa-77M-MTR and are newly initialized: ['roberta.pooler.dense.bias', 'roberta.pooler.dense.weight']\n",
      "You should probably TRAIN this model on a down-stream task to be able to use it for predictions and inference.\n"
     ]
    },
    {
     "name": "stdout",
     "output_type": "stream",
     "text": [
      "trainable params: 128,160 || all params: 148,923,641 || trainable%: 0.0861\n",
      "trainable params: 221,184 || all params: 3,648,624 || trainable%: 6.0621\n",
      "Loading checkpoint from BALM/bdb-cleaned-r-esm-lokr-chemberta-loha-cosinemse\n",
      "Merging protein model with its adapter\n",
      "Merging drug model with its adapter\n"
     ]
    }
   ],
   "source": [
    "config_filepath = \"../../default_configs/balm_peft.yaml\"\n",
    "configs = Configs(**common_utils.load_yaml(config_filepath))\n",
    "\n",
    "# Load the model\n",
    "model = BALM(configs.model_configs)\n",
    "model = load_trained_model(model, configs.model_configs, is_training=False)\n",
    "model.to(DEVICE)\n",
    "model.eval()\n",
    "# Pretrained pKd lower and upper bounds\n",
    "pkd_lower_bound, pkd_upper_bound = load_pretrained_pkd_bounds(configs.model_configs.checkpoint_path)\n",
    "\n",
    "# Load the tokenizers\n",
    "protein_tokenizer = AutoTokenizer.from_pretrained(\n",
    "    configs.model_configs.protein_model_name_or_path\n",
    ")\n",
    "drug_tokenizer = AutoTokenizer.from_pretrained(\n",
    "    configs.model_configs.drug_model_name_or_path\n",
    ")"
   ]
  },
  {
   "cell_type": "markdown",
   "metadata": {},
   "source": [
    "# Custom Dummy Data\n",
    "\n",
    "Alternative to loading the data from a HF repo, you can also bring in your own custom data."
   ]
  },
  {
   "cell_type": "code",
   "execution_count": 5,
   "metadata": {},
   "outputs": [],
   "source": [
    "import pandas as pd\n",
    "\n",
    "df = pd.read_csv(\"custom_data_demo.csv\")"
   ]
  },
  {
   "cell_type": "code",
   "execution_count": 6,
   "metadata": {},
   "outputs": [
    {
     "data": {
      "text/html": [
       "<div>\n",
       "<style scoped>\n",
       "    .dataframe tbody tr th:only-of-type {\n",
       "        vertical-align: middle;\n",
       "    }\n",
       "\n",
       "    .dataframe tbody tr th {\n",
       "        vertical-align: top;\n",
       "    }\n",
       "\n",
       "    .dataframe thead th {\n",
       "        text-align: right;\n",
       "    }\n",
       "</style>\n",
       "<table border=\"1\" class=\"dataframe\">\n",
       "  <thead>\n",
       "    <tr style=\"text-align: right;\">\n",
       "      <th></th>\n",
       "      <th>Index</th>\n",
       "      <th>Drug</th>\n",
       "      <th>Target</th>\n",
       "      <th>Y</th>\n",
       "    </tr>\n",
       "  </thead>\n",
       "  <tbody>\n",
       "    <tr>\n",
       "      <th>0</th>\n",
       "      <td>0</td>\n",
       "      <td>O=C([O-])c1[nH]c2ccccc2c1CCCOc1ccccc1</td>\n",
       "      <td>GDELYRQSLEIISRYLREQATGAKDTKPMGRSGATSRKALETLRRV...</td>\n",
       "      <td>4.455932</td>\n",
       "    </tr>\n",
       "    <tr>\n",
       "      <th>1</th>\n",
       "      <td>1</td>\n",
       "      <td>Cc1ccccc1OCCCc1c(C(=O)[O-])[nH]c2ccccc12</td>\n",
       "      <td>GDELYRQSLEIISRYLREQATGAKDTKPMGRSGATSRKALETLRRV...</td>\n",
       "      <td>4.823909</td>\n",
       "    </tr>\n",
       "    <tr>\n",
       "      <th>2</th>\n",
       "      <td>2</td>\n",
       "      <td>Cc1cccc(OCCCc2c(C(=O)[O-])[nH]c3ccccc23)c1</td>\n",
       "      <td>GDELYRQSLEIISRYLREQATGAKDTKPMGRSGATSRKALETLRRV...</td>\n",
       "      <td>5.721246</td>\n",
       "    </tr>\n",
       "    <tr>\n",
       "      <th>3</th>\n",
       "      <td>3</td>\n",
       "      <td>O=C([O-])c1[nH]c2ccccc2c1CCCOc1cccc(C(F)(F)F)c1</td>\n",
       "      <td>GDELYRQSLEIISRYLREQATGAKDTKPMGRSGATSRKALETLRRV...</td>\n",
       "      <td>5.769551</td>\n",
       "    </tr>\n",
       "    <tr>\n",
       "      <th>4</th>\n",
       "      <td>4</td>\n",
       "      <td>Cc1ccc(OCCCc2c(C(=O)[O-])[nH]c3ccccc23)cc1</td>\n",
       "      <td>GDELYRQSLEIISRYLREQATGAKDTKPMGRSGATSRKALETLRRV...</td>\n",
       "      <td>4.795880</td>\n",
       "    </tr>\n",
       "  </tbody>\n",
       "</table>\n",
       "</div>"
      ],
      "text/plain": [
       "   Index                                             Drug   \n",
       "0      0            O=C([O-])c1[nH]c2ccccc2c1CCCOc1ccccc1  \\\n",
       "1      1         Cc1ccccc1OCCCc1c(C(=O)[O-])[nH]c2ccccc12   \n",
       "2      2       Cc1cccc(OCCCc2c(C(=O)[O-])[nH]c3ccccc23)c1   \n",
       "3      3  O=C([O-])c1[nH]c2ccccc2c1CCCOc1cccc(C(F)(F)F)c1   \n",
       "4      4       Cc1ccc(OCCCc2c(C(=O)[O-])[nH]c3ccccc23)cc1   \n",
       "\n",
       "                                              Target         Y  \n",
       "0  GDELYRQSLEIISRYLREQATGAKDTKPMGRSGATSRKALETLRRV...  4.455932  \n",
       "1  GDELYRQSLEIISRYLREQATGAKDTKPMGRSGATSRKALETLRRV...  4.823909  \n",
       "2  GDELYRQSLEIISRYLREQATGAKDTKPMGRSGATSRKALETLRRV...  5.721246  \n",
       "3  GDELYRQSLEIISRYLREQATGAKDTKPMGRSGATSRKALETLRRV...  5.769551  \n",
       "4  GDELYRQSLEIISRYLREQATGAKDTKPMGRSGATSRKALETLRRV...  4.795880  "
      ]
     },
     "execution_count": 6,
     "metadata": {},
     "output_type": "execute_result"
    }
   ],
   "source": [
    "# Adjust the column name to your data, this example has `Drug`, `Target`, `Y` columns denoting ligand sequences, protein sequences, and binding affinity respectively.\n",
    "df.head(5)"
   ]
  },
  {
   "cell_type": "markdown",
   "metadata": {},
   "source": [
    "### Zero shot predictions with pretrained BindingDB"
   ]
  },
  {
   "cell_type": "code",
   "execution_count": 7,
   "metadata": {},
   "outputs": [
    {
     "name": "stdout",
     "output_type": "stream",
     "text": [
      "Predicted pKd: 4.687337875366211 | True pKd: 4.455932140350342\n",
      "Predicted pKd: 4.799520492553711 | True pKd: 4.823908805847168\n",
      "Predicted pKd: 4.840061664581299 | True pKd: 5.721246242523193\n",
      "Predicted pKd: 4.6916422843933105 | True pKd: 5.7695512771606445\n",
      "Predicted pKd: 4.794649600982666 | True pKd: 4.79587984085083\n",
      "Predicted pKd: 4.777118682861328 | True pKd: 5.0087738037109375\n",
      "Predicted pKd: 4.694001197814941 | True pKd: 5.004364967346191\n",
      "Predicted pKd: 4.922251224517822 | True pKd: 6.4202165603637695\n",
      "Predicted pKd: 4.802126884460449 | True pKd: 5.958607196807861\n",
      "Predicted pKd: 5.07747745513916 | True pKd: 6.522878646850586\n",
      "Predicted pKd: 4.931079864501953 | True pKd: 5.12493896484375\n",
      "Predicted pKd: 4.930351734161377 | True pKd: 5.537601947784424\n",
      "Predicted pKd: 5.17240047454834 | True pKd: 4.207608222961426\n",
      "Predicted pKd: 5.050621509552002 | True pKd: 4.853871822357178\n",
      "Predicted pKd: 5.165882110595703 | True pKd: 6.091515064239502\n",
      "Predicted pKd: 5.262083053588867 | True pKd: 6.79587984085083\n",
      "Predicted pKd: 5.146811008453369 | True pKd: 6.721246242523193\n",
      "Predicted pKd: 5.243717670440674 | True pKd: 7.259637355804443\n",
      "Predicted pKd: 5.038331031799316 | True pKd: 6.744727611541748\n",
      "Predicted pKd: 5.32003927230835 | True pKd: 6.853871822357178\n",
      "Predicted pKd: 4.607152462005615 | True pKd: 6.494850158691406\n",
      "Predicted pKd: 4.711674690246582 | True pKd: 5.886056423187256\n",
      "Predicted pKd: 4.652307510375977 | True pKd: 6.602059841156006\n",
      "Predicted pKd: 4.707118988037109 | True pKd: 6.12493896484375\n",
      "Predicted pKd: 4.313188076019287 | True pKd: 5.522878646850586\n",
      "Time taken for 100 protein-ligand pairs: 44.90394377708435\n"
     ]
    }
   ],
   "source": [
    "start = time.time()\n",
    "predictions = []\n",
    "labels = []\n",
    "for _, sample in df.iterrows():\n",
    "    # Prepare input\n",
    "    protein_inputs = protein_tokenizer(sample[\"Target\"], return_tensors=\"pt\").to(DEVICE)\n",
    "    drug_inputs = drug_tokenizer(sample[\"Drug\"], return_tensors=\"pt\").to(DEVICE)\n",
    "    inputs = {\n",
    "        \"protein_input_ids\": protein_inputs[\"input_ids\"],\n",
    "        \"protein_attention_mask\": protein_inputs[\"attention_mask\"],\n",
    "        \"drug_input_ids\": drug_inputs[\"input_ids\"],\n",
    "        \"drug_attention_mask\": drug_inputs[\"attention_mask\"],\n",
    "    }\n",
    "    prediction = model(inputs)[\"cosine_similarity\"]\n",
    "    prediction = model.cosine_similarity_to_pkd(prediction, pkd_upper_bound=pkd_upper_bound, pkd_lower_bound=pkd_lower_bound)\n",
    "    label = torch.tensor([sample[\"Y\"]])\n",
    "\n",
    "    print(f\"Predicted pKd: {prediction.item()} | True pKd: {label.item()}\")\n",
    "    predictions.append(prediction.item())\n",
    "    labels.append(label.item())\n",
    "print(f\"Time taken for 100 protein-ligand pairs: {time.time() - start}\")"
   ]
  },
  {
   "cell_type": "code",
   "execution_count": 8,
   "metadata": {},
   "outputs": [
    {
     "name": "stdout",
     "output_type": "stream",
     "text": [
      "RMSE: 1.207031488418579\n",
      "Pearson: 0.34085506200790405\n",
      "Spearman: 0.3638461538461538\n",
      "CI: 0.6266666650772095\n"
     ]
    },
    {
     "data": {
      "text/plain": [
       "Text(0, 0.5, 'Predicted $pK_d$')"
      ]
     },
     "execution_count": 8,
     "metadata": {},
     "output_type": "execute_result"
    },
    {
     "data": {
      "image/png": "[encoded data removed]",
      "text/plain": [
       "<Figure size 640x480 with 1 Axes>"
      ]
     },
     "metadata": {},
     "output_type": "display_data"
    }
   ],
   "source": [
    "from balm.metrics import get_ci, get_pearson, get_rmse, get_spearman\n",
    "\n",
    "import seaborn as sns\n",
    "\n",
    "rmse = get_rmse(torch.tensor(labels), torch.tensor(predictions))\n",
    "pearson = get_pearson(torch.tensor(labels), torch.tensor(predictions))\n",
    "spearman = get_spearman(torch.tensor(labels), torch.tensor(predictions))\n",
    "ci = get_ci(torch.tensor(labels), torch.tensor(predictions))\n",
    "\n",
    "print(f\"RMSE: {rmse}\")\n",
    "print(f\"Pearson: {pearson}\")\n",
    "print(f\"Spearman: {spearman}\")\n",
    "print(f\"CI: {ci}\")\n",
    "\n",
    "ax = sns.regplot(x=labels, y=predictions)\n",
    "ax.set_title(f\"Custom Data\")\n",
    "ax.set_xlabel(r\"Experimental $pK_d$\")\n",
    "ax.set_ylabel(r\"Predicted $pK_d$\")"
   ]
  },
  {
   "cell_type": "markdown",
   "metadata": {},
   "source": [
    "# Few shot training\n",
    "\n",
    "Note: This is a simplified training process, for a more tested approach, please refer to our `balm/trainer.py`"
   ]
  },
  {
   "cell_type": "code",
   "execution_count": 12,
   "metadata": {},
   "outputs": [],
   "source": [
    "from sklearn.model_selection import train_test_split\n",
    "\n",
    "# Split data\n",
    "train_data, test_data = train_test_split(df, train_size=0.2, random_state=1234)"
   ]
  },
  {
   "cell_type": "code",
   "execution_count": 13,
   "metadata": {},
   "outputs": [],
   "source": [
    "# Define a function that applies the cosine similarity conversion to a single example\n",
    "# This is VERY IMPORTANT since BALM uses cosine similarity\n",
    "def add_cosine_similarity(example, pkd_upper_bound, pkd_lower_bound):\n",
    "    example['cosine_similarity'] = (\n",
    "        (example['Y'] - pkd_lower_bound)\n",
    "        / (pkd_upper_bound - pkd_lower_bound)\n",
    "        * 2\n",
    "        - 1\n",
    "    )\n",
    "    return example\n",
    "\n",
    "# Use map to apply the function across the entire dataset\n",
    "train_data = train_data.apply(lambda x: add_cosine_similarity(x, pkd_upper_bound, pkd_lower_bound), axis=1)\n",
    "test_data = test_data.apply(lambda x: add_cosine_similarity(x, pkd_upper_bound, pkd_lower_bound), axis=1)"
   ]
  },
  {
   "cell_type": "code",
   "execution_count": 14,
   "metadata": {},
   "outputs": [
    {
     "name": "stdout",
     "output_type": "stream",
     "text": [
      "Number of train data: 5\n",
      "Number of test data: 20\n"
     ]
    }
   ],
   "source": [
    "print(f\"Number of train data: {len(train_data)}\")\n",
    "print(f\"Number of test data: {len(test_data)}\")"
   ]
  },
  {
   "cell_type": "code",
   "execution_count": 15,
   "metadata": {},
   "outputs": [
    {
     "name": "stderr",
     "output_type": "stream",
     "text": [
      "Some weights of EsmModel were not initialized from the model checkpoint at facebook/esm2_t30_150M_UR50D and are newly initialized: ['esm.pooler.dense.bias', 'esm.pooler.dense.weight']\n",
      "You should probably TRAIN this model on a down-stream task to be able to use it for predictions and inference.\n",
      "Some weights of RobertaModel were not initialized from the model checkpoint at DeepChem/ChemBERTa-77M-MTR and are newly initialized: ['roberta.pooler.dense.bias', 'roberta.pooler.dense.weight']\n",
      "You should probably TRAIN this model on a down-stream task to be able to use it for predictions and inference.\n"
     ]
    },
    {
     "name": "stdout",
     "output_type": "stream",
     "text": [
      "trainable params: 128,160 || all params: 148,923,641 || trainable%: 0.0861\n",
      "trainable params: 221,184 || all params: 3,648,624 || trainable%: 6.0621\n",
      "Loading checkpoint from BALM/bdb-cleaned-r-esm-lokr-chemberta-loha-cosinemse\n",
      "Merging protein model with its adapter\n",
      "Merging drug model with its adapter\n",
      "protein_projection.weight\n",
      "protein_projection.bias\n",
      "drug_projection.weight\n",
      "drug_projection.bias\n",
      "trainable params: 262,656 || all params: 152,485,577 || trainable%: 0.17224973349446682\n"
     ]
    }
   ],
   "source": [
    "model = BALM(configs.model_configs)\n",
    "model = load_trained_model(model, configs.model_configs, is_training=True)\n",
    "model = model.to(DEVICE)"
   ]
  },
  {
   "cell_type": "code",
   "execution_count": 16,
   "metadata": {},
   "outputs": [
    {
     "name": "stdout",
     "output_type": "stream",
     "text": [
      "Epoch [1/10], Loss: 0.0915\n",
      "Epoch [2/10], Loss: 0.0751\n",
      "Epoch [3/10], Loss: 0.0562\n",
      "Epoch [4/10], Loss: 0.0510\n",
      "Epoch [5/10], Loss: 0.0424\n",
      "Epoch [6/10], Loss: 0.0499\n",
      "Epoch [7/10], Loss: 0.0451\n",
      "Epoch [8/10], Loss: 0.0357\n",
      "Epoch [9/10], Loss: 0.0415\n",
      "Epoch [10/10], Loss: 0.0379\n",
      "Training complete! Time taken:  92.83397889137268\n"
     ]
    }
   ],
   "source": [
    "from torch.optim import AdamW\n",
    "\n",
    "NUM_EPOCHS = 10\n",
    "optimizer = AdamW(\n",
    "    params=[\n",
    "        param\n",
    "        for name, param in model.named_parameters()\n",
    "    ],\n",
    "    lr=configs.model_configs.model_hyperparameters.learning_rate,\n",
    ")\n",
    "\n",
    "start = time.time()\n",
    "for epoch in range(NUM_EPOCHS):\n",
    "    model.train()  # Set the model to training mode\n",
    "    total_loss = 0.0  # To track the loss for each epoch\n",
    "\n",
    "    for _, sample in train_data.iterrows():\n",
    "        # Prepare input\n",
    "        protein_inputs = protein_tokenizer(sample[\"Target\"], return_tensors=\"pt\").to(DEVICE)\n",
    "        drug_inputs = drug_tokenizer(sample[\"Drug\"], return_tensors=\"pt\").to(DEVICE)\n",
    "        # Move labels to the appropriate device and ensure it's a tensor\n",
    "        labels = torch.tensor([sample[\"cosine_similarity\"]], dtype=torch.float32).to(DEVICE)\n",
    "\n",
    "        inputs = {\n",
    "            \"protein_input_ids\": protein_inputs[\"input_ids\"],\n",
    "            \"protein_attention_mask\": protein_inputs[\"attention_mask\"],\n",
    "            \"drug_input_ids\": drug_inputs[\"input_ids\"],\n",
    "            \"drug_attention_mask\": drug_inputs[\"attention_mask\"],\n",
    "            \"labels\": labels,  # Add labels for training\n",
    "        }\n",
    "\n",
    "        # Forward pass\n",
    "        outputs = model(inputs)\n",
    "\n",
    "        # Assume the model's output dictionary contains 'loss'\n",
    "        loss = outputs[\"loss\"]\n",
    "\n",
    "        # Backpropagation\n",
    "        optimizer.zero_grad()  # Zero out the gradients to avoid accumulation\n",
    "        loss.backward()  # Compute gradients\n",
    "        optimizer.step()  # Update model parameters\n",
    "\n",
    "        total_loss += loss.item()\n",
    "    \n",
    "    # Log the loss for this epoch\n",
    "    avg_loss = total_loss / len(train_data)\n",
    "    print(f\"Epoch [{epoch+1}/{NUM_EPOCHS}], Loss: {avg_loss:.4f}\")\n",
    "\n",
    "print(\"Training complete! Time taken: \", time.time() - start)"
   ]
  },
  {
   "cell_type": "markdown",
   "metadata": {},
   "source": [
    "## Test the model!"
   ]
  },
  {
   "cell_type": "code",
   "execution_count": 17,
   "metadata": {},
   "outputs": [
    {
     "name": "stdout",
     "output_type": "stream",
     "text": [
      "Predicted pKd: 5.468099594116211 | True pKd: 6.4202165603637695\n",
      "Predicted pKd: 5.780290603637695 | True pKd: 6.721246242523193\n",
      "Predicted pKd: 5.39955997467041 | True pKd: 5.721246242523193\n",
      "Predicted pKd: 5.2336320877075195 | True pKd: 5.7695512771606445\n",
      "Predicted pKd: 5.301002502441406 | True pKd: 4.823908805847168\n",
      "Predicted pKd: 5.795860767364502 | True pKd: 6.744727611541748\n",
      "Predicted pKd: 5.259094715118408 | True pKd: 5.0087738037109375\n",
      "Predicted pKd: 5.335289478302002 | True pKd: 4.79587984085083\n",
      "Predicted pKd: 5.144143581390381 | True pKd: 4.455932140350342\n",
      "Predicted pKd: 5.362062454223633 | True pKd: 5.958607196807861\n",
      "Predicted pKd: 5.456796646118164 | True pKd: 4.853871822357178\n",
      "Predicted pKd: 5.635218620300293 | True pKd: 6.602059841156006\n",
      "Predicted pKd: 5.3519606590271 | True pKd: 5.12493896484375\n",
      "Predicted pKd: 5.592774391174316 | True pKd: 6.12493896484375\n",
      "Predicted pKd: 5.414948463439941 | True pKd: 6.494850158691406\n",
      "Predicted pKd: 5.748663902282715 | True pKd: 6.091515064239502\n",
      "Predicted pKd: 5.509481430053711 | True pKd: 5.537601947784424\n",
      "Predicted pKd: 5.657193183898926 | True pKd: 6.522878646850586\n",
      "Predicted pKd: 5.899112701416016 | True pKd: 7.259637355804443\n",
      "Predicted pKd: 5.335819244384766 | True pKd: 5.522878646850586\n",
      "Time taken for 20 protein-ligand pairs: 128.0068039894104\n"
     ]
    }
   ],
   "source": [
    "model = model.eval()\n",
    "\n",
    "predictions = []\n",
    "labels = []\n",
    "for _, sample in test_data.iterrows():\n",
    "    # Prepare input\n",
    "    protein_inputs = protein_tokenizer(sample[\"Target\"], return_tensors=\"pt\").to(DEVICE)\n",
    "    drug_inputs = drug_tokenizer(sample[\"Drug\"], return_tensors=\"pt\").to(DEVICE)\n",
    "    inputs = {\n",
    "        \"protein_input_ids\": protein_inputs[\"input_ids\"],\n",
    "        \"protein_attention_mask\": protein_inputs[\"attention_mask\"],\n",
    "        \"drug_input_ids\": drug_inputs[\"input_ids\"],\n",
    "        \"drug_attention_mask\": drug_inputs[\"attention_mask\"],\n",
    "    }\n",
    "    prediction = model(inputs)[\"cosine_similarity\"]\n",
    "    prediction = model.cosine_similarity_to_pkd(prediction, pkd_upper_bound=pkd_upper_bound, pkd_lower_bound=pkd_lower_bound)\n",
    "    label = torch.tensor([sample[\"Y\"]])\n",
    "\n",
    "    print(f\"Predicted pKd: {prediction.item()} | True pKd: {label.item()}\")\n",
    "    predictions.append(prediction.item())\n",
    "    labels.append(label.item())\n",
    "print(f\"Time taken for {len(test_data)} protein-ligand pairs: {time.time() - start}\")"
   ]
  },
  {
   "cell_type": "code",
   "execution_count": 18,
   "metadata": {},
   "outputs": [
    {
     "name": "stdout",
     "output_type": "stream",
     "text": [
      "RMSE: 0.7087559103965759\n",
      "Pearson: 0.810937762260437\n",
      "Spearman: 0.8330827067669173\n",
      "CI: 0.8315789699554443\n"
     ]
    },
    {
     "data": {
      "text/plain": [
       "Text(0, 0.5, 'Predicted $pK_d$')"
      ]
     },
     "execution_count": 18,
     "metadata": {},
     "output_type": "execute_result"
    },
    {
     "data": {
      "image/png": "[encoded data removed]",
      "text/plain": [
       "<Figure size 640x480 with 1 Axes>"
      ]
     },
     "metadata": {},
     "output_type": "display_data"
    }
   ],
   "source": [
    "from balm.metrics import get_ci, get_pearson, get_rmse, get_spearman\n",
    "\n",
    "rmse = get_rmse(torch.tensor(labels), torch.tensor(predictions))\n",
    "pearson = get_pearson(torch.tensor(labels), torch.tensor(predictions))\n",
    "spearman = get_spearman(torch.tensor(labels), torch.tensor(predictions))\n",
    "ci = get_ci(torch.tensor(labels), torch.tensor(predictions))\n",
    "\n",
    "print(f\"RMSE: {rmse}\")\n",
    "print(f\"Pearson: {pearson}\")\n",
    "print(f\"Spearman: {spearman}\")\n",
    "print(f\"CI: {ci}\")\n",
    "\n",
    "ax = sns.regplot(x=labels, y=predictions)\n",
    "ax.set_title(f\"Custom Data\")\n",
    "ax.set_xlabel(r\"Experimental $pK_d$\")\n",
    "ax.set_ylabel(r\"Predicted $pK_d$\")"
   ]
  },
  {
   "cell_type": "code",
   "execution_count": null,
   "metadata": {},
   "outputs": [],
   "source": []
  }
 ],
 "metadata": {
  "kernelspec": {
   "display_name": "Python 3 (ipykernel)",
   "language": "python",
   "name": "python3"
  },
  "language_info": {
   "codemirror_mode": {
    "name": "ipython",
    "version": 3
   },
   "file_extension": ".py",
   "mimetype": "text/x-python",
   "name": "python",
   "nbconvert_exporter": "python",
   "pygments_lexer": "ipython3",
   "version": "3.8.12"
  }
 },
 "nbformat": 4,
 "nbformat_minor": 2
}
