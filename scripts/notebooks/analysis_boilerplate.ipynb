{
 "cells": [
  {
   "cell_type": "code",
   "execution_count": 1,
   "id": "492c36a9-cc0a-4b39-a49f-aa9e32ecc86e",
   "metadata": {},
   "outputs": [],
   "source": [
    "import torch"
   ]
  },
  {
   "cell_type": "markdown",
   "id": "486c11d9-9345-4709-9655-b0cc71e2c1ff",
   "metadata": {},
   "source": [
    "# Load model"
   ]
  },
  {
   "cell_type": "code",
   "execution_count": 2,
   "id": "d54447e6-50c7-4584-87dc-7c52b2ef4375",
   "metadata": {},
   "outputs": [],
   "source": [
    "# Change depending on the model you've downloaded, consider renaming the bin file too to not confuse ourselves\n",
    "# Notice that currently the all pytorch_model.bin files are around 600MB,\n",
    "# but we can choose later to only publish the LoKr and LoHA adapters which would probably be around 10-20MB\n",
    "checkpoint = torch.load(\"/Users/aryopg/Downloads/pytorch_model.bin\", map_location=torch.device(\"mps\"))"
   ]
  },
  {
   "cell_type": "code",
   "execution_count": 3,
   "id": "cd9f0ce9-6e60-43b5-b1ba-3b2a2db3db5b",
   "metadata": {
    "scrolled": true
   },
   "outputs": [
    {
     "name": "stderr",
     "output_type": "stream",
     "text": [
      "/Users/aryopg/miniconda3/envs/dl_ba/lib/python3.10/site-packages/tqdm/auto.py:21: TqdmWarning: IProgress not found. Please update jupyter and ipywidgets. See https://ipywidgets.readthedocs.io/en/stable/user_install.html\n",
      "  from .autonotebook import tqdm as notebook_tqdm\n",
      "Some weights of EsmModel were not initialized from the model checkpoint at facebook/esm2_t30_150M_UR50D and are newly initialized: ['esm.pooler.dense.bias', 'esm.pooler.dense.weight']\n",
      "You should probably TRAIN this model on a down-stream task to be able to use it for predictions and inference.\n",
      "Some weights of RobertaModel were not initialized from the model checkpoint at DeepChem/ChemBERTa-77M-MTR and are newly initialized: ['roberta.pooler.dense.weight', 'roberta.pooler.dense.bias']\n",
      "You should probably TRAIN this model on a down-stream task to be able to use it for predictions and inference.\n"
     ]
    },
    {
     "name": "stdout",
     "output_type": "stream",
     "text": [
      "trainable params: 128,160 || all params: 148,923,641 || trainable%: 0.08605752527901195\n",
      "trainable params: 221,184 || all params: 3,648,624 || trainable%: 6.062120952994882\n"
     ]
    }
   ],
   "source": [
    "import argparse\n",
    "import os\n",
    "import sys\n",
    "\n",
    "# This is to force the path to be on the same level as the dl_ba folder\n",
    "sys.path.append(\"../..\")\n",
    "\n",
    "from dl_ba import common_utils\n",
    "from dl_ba.configs import Configs\n",
    "from dl_ba.model import BindingAffinityModel\n",
    "\n",
    "# Choose the config path\n",
    "config_filepath = \"../../configs/random_seed_experiments/bindingdb_random/esm_lokr_chemberta_loha_cosinemse_1.yaml\"\n",
    "configs = Configs(**common_utils.load_yaml(config_filepath))\n",
    "\n",
    "model = BindingAffinityModel(configs.model_configs)"
   ]
  },
  {
   "cell_type": "code",
   "execution_count": 4,
   "id": "00dfc785-c42a-4438-86f8-c2eddbe8a74f",
   "metadata": {
    "scrolled": true
   },
   "outputs": [],
   "source": [
    "model.load_state_dict(checkpoint)\n",
    "model = model.eval()"
   ]
  },
  {
   "cell_type": "markdown",
   "id": "45bab12d-7dce-4b7f-881d-2d1f98d99f9b",
   "metadata": {},
   "source": [
    "# Analyses!\n",
    "\n",
    "Use `with torch.no_grad():` when running the analysis\n",
    "\n",
    "In order to visualise BERT attention, remember to merge the PEFT adapter to the original model first."
   ]
  },
  {
   "cell_type": "code",
   "execution_count": 5,
   "id": "8d933a0c-5c3a-4fa9-a0ed-a4f536fcc757",
   "metadata": {},
   "outputs": [],
   "source": [
    "# Merge PEFT and base model\n",
    "\n",
    "protein_model = model.protein_model\n",
    "merged_protein_model = protein_model.merge_and_unload()"
   ]
  },
  {
   "cell_type": "code",
   "execution_count": 6,
   "id": "2b05c209-02fe-492e-aae6-f846aa7ca0a5",
   "metadata": {},
   "outputs": [
    {
     "name": "stderr",
     "output_type": "stream",
     "text": [
      "Found local copy...\n",
      "Loading...\n",
      "Done!\n"
     ]
    },
    {
     "name": "stdout",
     "output_type": "stream",
     "text": [
      "MPLRHWGMARGSKPVGDGAQPMAAMGGLKVLLHWAGPGGGEPWVTFSESSLTAEEVCIHIAHKVGITPPCFNLFALFDAQAQVWLPPNHILEIPRDASLMLYFRIRFYFRNWHGMNPREPAVYRCGPPGTEASSDQTAQGMQLLDPASFEYLFEQGKHEFVNDVASLWELSTEEEIHHFKNESLGMAFLHLCHLALRHGIPLEEVAKKTSFKDCIPRSFRRHIRQHSALTRLRLRNVFRRFLRDFQPGRLSQQMVMVKYLATLERLAPRFGTERVPVCHLRLLAQAEGEPCYIRDSGVAPTDPGPESAAGPPTHEVLVTGTGGIQWWPVEEEVNKEEGSSGSSGRNPQASLFGKKAKAHKAVGQPADRPREPLWAYFCDFRDITHVVLKEHCVSIHRQDNKCLELSLPSRAAALSFVSLVDGYFRLTADSSHYLCHEVAPPRLVMSIRDGIHGPLLEPFVQAKLRPEDGLYLIHWSTSHPYRLILTVAQRSQAPDGMQSLRLRKFPIEQQDGAFVLEGWGRSFPSVRELGAALQGCLLRAGDDCFSLRRCCLPQPGETSNLIIMRGARASPRTLNLSQLSFHRVDQKEITQLSHLGQGTRTNVYEGRLRVEGSGDPEEGKMDDEDPLVPGRDRGQELRVVLKVLDPSHHDIALAFYETASLMSQVSHTHLAFVHGVCVRGPENIMVTEYVEHGPLDVWLRRERGHVPMAWKMVVAQQLASALSYLENKNLVHGNVCGRNILLARLGLAEGTSPFIKLSDPGVGLGALSREERVERIPWLAPECLPGGANSLSTAMDKWGFGATLLEICFDGEAPLQSRSPSEKEHFYQRQHRLPEPSCPQLATLTSQCLTYEPTQRPSFRTILRDLTRLQPHNLADVLTVNPDSPASDPTVFHKRYLKKIRDLGEGHFGKVSLYCYDPTNDGTGEMVAVKALKADCGPQHRSGWKQEIDILRTLYHEHIIKYKGCCEDQGEKSLQLVMEYVPLGSLRDYLPRHSIGLAQLLLFAQQICEGMAYLHAQHYIHRDLAARNVLLDNDRLVKIGDFGLAKAVPEGHEYYRVREDGDSPVFWYAPECLKEYKFYYASDVWSFGVTLYELLTHCDSSQSPPTKFLELIGIAQGQMTVLRLTELLERGERLPRPDKCPCEVYHLMKNCWETEASFRPTFENLIPILKTVHEKYQGQAPSVFSVC\n"
     ]
    }
   ],
   "source": [
    "# Get sequence to encode (TYK2)\n",
    "\n",
    "from tdc.multi_pred import DTI\n",
    "data = DTI(name = 'DAVIS')\n",
    "split = data.get_split()\n",
    "\n",
    "target_sequence_ids = data.entity2_idx.loc[data.entity2_idx == \"TYK2(JH2domain-pseudokinase)\"]\n",
    "target_sequence_id = target_sequence_ids.keys()[0]\n",
    "\n",
    "target_sequence = data.entity2.iloc[target_sequence_id]\n",
    "print(target_sequence)"
   ]
  },
  {
   "cell_type": "code",
   "execution_count": 7,
   "id": "64613c84-1996-4e14-9659-2e8217f224be",
   "metadata": {},
   "outputs": [],
   "source": [
    "from transformers import AutoTokenizer\n",
    "\n",
    "protein_tokenizer = AutoTokenizer.from_pretrained(\n",
    "    configs.model_configs.protein_model_name_or_path\n",
    ")"
   ]
  },
  {
   "cell_type": "code",
   "execution_count": 8,
   "id": "b0deeee9-7f96-44f4-ac73-a197a4bfec3b",
   "metadata": {},
   "outputs": [
    {
     "data": {
      "text/plain": [
       "EsmModel(\n",
       "  (embeddings): EsmEmbeddings(\n",
       "    (word_embeddings): Embedding(33, 640, padding_idx=1)\n",
       "    (dropout): Dropout(p=0.0, inplace=False)\n",
       "    (position_embeddings): Embedding(1026, 640, padding_idx=1)\n",
       "  )\n",
       "  (encoder): EsmEncoder(\n",
       "    (layer): ModuleList(\n",
       "      (0-29): 30 x EsmLayer(\n",
       "        (attention): EsmAttention(\n",
       "          (self): EsmSelfAttention(\n",
       "            (query): Linear(in_features=640, out_features=640, bias=True)\n",
       "            (key): Linear(in_features=640, out_features=640, bias=True)\n",
       "            (value): Linear(in_features=640, out_features=640, bias=True)\n",
       "            (dropout): Dropout(p=0.0, inplace=False)\n",
       "            (rotary_embeddings): RotaryEmbedding()\n",
       "          )\n",
       "          (output): EsmSelfOutput(\n",
       "            (dense): Linear(in_features=640, out_features=640, bias=True)\n",
       "            (dropout): Dropout(p=0.0, inplace=False)\n",
       "          )\n",
       "          (LayerNorm): LayerNorm((640,), eps=1e-05, elementwise_affine=True)\n",
       "        )\n",
       "        (intermediate): EsmIntermediate(\n",
       "          (dense): Linear(in_features=640, out_features=2560, bias=True)\n",
       "        )\n",
       "        (output): EsmOutput(\n",
       "          (dense): Linear(in_features=2560, out_features=640, bias=True)\n",
       "          (dropout): Dropout(p=0.0, inplace=False)\n",
       "        )\n",
       "        (LayerNorm): LayerNorm((640,), eps=1e-05, elementwise_affine=True)\n",
       "      )\n",
       "    )\n",
       "    (emb_layer_norm_after): LayerNorm((640,), eps=1e-05, elementwise_affine=True)\n",
       "  )\n",
       "  (pooler): EsmPooler(\n",
       "    (dense): Linear(in_features=640, out_features=640, bias=True)\n",
       "    (activation): Tanh()\n",
       "  )\n",
       "  (contact_head): EsmContactPredictionHead(\n",
       "    (regression): Linear(in_features=600, out_features=1, bias=True)\n",
       "    (activation): Sigmoid()\n",
       "  )\n",
       ")"
      ]
     },
     "execution_count": 8,
     "metadata": {},
     "output_type": "execute_result"
    }
   ],
   "source": [
    "merged_protein_model"
   ]
  },
  {
   "cell_type": "code",
   "execution_count": null,
   "id": "5d0bb087-269a-439a-83fe-b1902e6307d8",
   "metadata": {},
   "outputs": [
    {
     "name": "stdout",
     "output_type": "stream",
     "text": [
      "Layers: 30\n",
      "Size: torch.Size([1, 20, 1189, 1189])\n"
     ]
    },
    {
     "data": {
      "text/html": [
       "<script src=\"https://cdnjs.cloudflare.com/ajax/libs/require.js/2.3.6/require.min.js\"></script>"
      ],
      "text/plain": [
       "<IPython.core.display.HTML object>"
      ]
     },
     "metadata": {},
     "output_type": "display_data"
    },
    {
     "data": {
      "text/html": [
       "      \n",
       "        <div id=\"bertviz-2d0f98e90e7f49659ef1380b0c7d55a7\" style=\"font-family:'Helvetica Neue', Helvetica, Arial, sans-serif;\">\n",
       "            <span style=\"user-select:none\">\n",
       "                Layer: <select id=\"layer\"></select>\n",
       "                \n",
       "            </span>\n",
       "            <div id='vis'></div>\n",
       "        </div>\n",
       "    "
      ],
      "text/plain": [
       "<IPython.core.display.HTML object>"
      ]
     },
     "metadata": {},
     "output_type": "display_data"
    }
   ],
   "source": [
    "from bertviz import head_view, model_view\n",
    "\n",
    "inputs = protein_tokenizer(target_sequence, return_tensors='pt')\n",
    "input_ids = inputs[\"input_ids\"]\n",
    "# token_type_ids = inputs['token_type_ids']\n",
    "\n",
    "with torch.no_grad():\n",
    "    attentions = merged_protein_model(input_ids, output_attentions=True)[\"attentions\"]\n",
    "    print(f\"Layers: {len(attentions)}\")\n",
    "    print(f\"Size: {attentions[0].size()}\")\n",
    "\n",
    "tokens = protein_tokenizer.convert_ids_to_tokens(input_ids[0].tolist())\n",
    "\n",
    "# To heavy for me macbook\n",
    "# model_view(attentions, tokens)\n",
    "\n",
    "head_view(attentions, tokens, include_layers=[0, 15, 29])"
   ]
  }
 ],
 "metadata": {
  "kernelspec": {
   "display_name": "conda_dl_ba",
   "language": "python",
   "name": "conda_dl_ba"
  },
  "language_info": {
   "codemirror_mode": {
    "name": "ipython",
    "version": 3
   },
   "file_extension": ".py",
   "mimetype": "text/x-python",
   "name": "python",
   "nbconvert_exporter": "python",
   "pygments_lexer": "ipython3",
   "version": "3.10.12"
  }
 },
 "nbformat": 4,
 "nbformat_minor": 5
}
